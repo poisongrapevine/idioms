{
 "cells": [
  {
   "cell_type": "markdown",
   "id": "cd1f0077",
   "metadata": {},
   "source": [
    "### rundown\n",
    "\n",
    "- clustering does not work\n",
    "- linear regression works poorly\n",
    "- the distributions suggest nothing\n",
    "- i am confused"
   ]
  },
  {
   "cell_type": "markdown",
   "id": "3f76e731",
   "metadata": {},
   "source": [
    "## crude data analysis"
   ]
  },
  {
   "cell_type": "code",
   "execution_count": 639,
   "id": "fa4b3106",
   "metadata": {},
   "outputs": [
    {
     "data": {
      "text/html": [
       "<div>\n",
       "<style scoped>\n",
       "    .dataframe tbody tr th:only-of-type {\n",
       "        vertical-align: middle;\n",
       "    }\n",
       "\n",
       "    .dataframe tbody tr th {\n",
       "        vertical-align: top;\n",
       "    }\n",
       "\n",
       "    .dataframe thead th {\n",
       "        text-align: right;\n",
       "    }\n",
       "</style>\n",
       "<table border=\"1\" class=\"dataframe\">\n",
       "  <thead>\n",
       "    <tr style=\"text-align: right;\">\n",
       "      <th></th>\n",
       "      <th>ip</th>\n",
       "      <th>label</th>\n",
       "      <th>answer</th>\n",
       "      <th>time</th>\n",
       "    </tr>\n",
       "  </thead>\n",
       "  <tbody>\n",
       "    <tr>\n",
       "      <th>1</th>\n",
       "      <td>768f35facd7274bec5720cfc2b65d8b7</td>\n",
       "      <td>practice1</td>\n",
       "      <td>1.089583</td>\n",
       "      <td>-0.599776</td>\n",
       "    </tr>\n",
       "    <tr>\n",
       "      <th>3</th>\n",
       "      <td>768f35facd7274bec5720cfc2b65d8b7</td>\n",
       "      <td>practice2</td>\n",
       "      <td>-1.019287</td>\n",
       "      <td>-0.578546</td>\n",
       "    </tr>\n",
       "    <tr>\n",
       "      <th>5</th>\n",
       "      <td>768f35facd7274bec5720cfc2b65d8b7</td>\n",
       "      <td>Fu-1F.01</td>\n",
       "      <td>-1.019287</td>\n",
       "      <td>-0.578412</td>\n",
       "    </tr>\n",
       "    <tr>\n",
       "      <th>7</th>\n",
       "      <td>768f35facd7274bec5720cfc2b65d8b7</td>\n",
       "      <td>id.sub.a</td>\n",
       "      <td>-1.019287</td>\n",
       "      <td>-0.361890</td>\n",
       "    </tr>\n",
       "    <tr>\n",
       "      <th>9</th>\n",
       "      <td>768f35facd7274bec5720cfc2b65d8b7</td>\n",
       "      <td>Fg-8F.02</td>\n",
       "      <td>1.089583</td>\n",
       "      <td>-0.479025</td>\n",
       "    </tr>\n",
       "    <tr>\n",
       "      <th>...</th>\n",
       "      <td>...</td>\n",
       "      <td>...</td>\n",
       "      <td>...</td>\n",
       "      <td>...</td>\n",
       "    </tr>\n",
       "    <tr>\n",
       "      <th>3567</th>\n",
       "      <td>aa43a9471d001423711806402efdaaad</td>\n",
       "      <td>noid.sub.d</td>\n",
       "      <td>0.913514</td>\n",
       "      <td>-0.532536</td>\n",
       "    </tr>\n",
       "    <tr>\n",
       "      <th>3569</th>\n",
       "      <td>aa43a9471d001423711806402efdaaad</td>\n",
       "      <td>Fu-3F.01</td>\n",
       "      <td>-1.461622</td>\n",
       "      <td>-0.382049</td>\n",
       "    </tr>\n",
       "    <tr>\n",
       "      <th>3571</th>\n",
       "      <td>aa43a9471d001423711806402efdaaad</td>\n",
       "      <td>Fg-8F.02</td>\n",
       "      <td>0.913514</td>\n",
       "      <td>-0.474538</td>\n",
       "    </tr>\n",
       "    <tr>\n",
       "      <th>3573</th>\n",
       "      <td>aa43a9471d001423711806402efdaaad</td>\n",
       "      <td>id.amb.a</td>\n",
       "      <td>0.913514</td>\n",
       "      <td>-0.377294</td>\n",
       "    </tr>\n",
       "    <tr>\n",
       "      <th>3575</th>\n",
       "      <td>aa43a9471d001423711806402efdaaad</td>\n",
       "      <td>noid.amb.d</td>\n",
       "      <td>0.913514</td>\n",
       "      <td>-0.455585</td>\n",
       "    </tr>\n",
       "  </tbody>\n",
       "</table>\n",
       "<p>1615 rows × 4 columns</p>\n",
       "</div>"
      ],
      "text/plain": [
       "                                    ip       label    answer      time\n",
       "1     768f35facd7274bec5720cfc2b65d8b7   practice1  1.089583 -0.599776\n",
       "3     768f35facd7274bec5720cfc2b65d8b7   practice2 -1.019287 -0.578546\n",
       "5     768f35facd7274bec5720cfc2b65d8b7    Fu-1F.01 -1.019287 -0.578412\n",
       "7     768f35facd7274bec5720cfc2b65d8b7    id.sub.a -1.019287 -0.361890\n",
       "9     768f35facd7274bec5720cfc2b65d8b7    Fg-8F.02  1.089583 -0.479025\n",
       "...                                ...         ...       ...       ...\n",
       "3567  aa43a9471d001423711806402efdaaad  noid.sub.d  0.913514 -0.532536\n",
       "3569  aa43a9471d001423711806402efdaaad    Fu-3F.01 -1.461622 -0.382049\n",
       "3571  aa43a9471d001423711806402efdaaad    Fg-8F.02  0.913514 -0.474538\n",
       "3573  aa43a9471d001423711806402efdaaad    id.amb.a  0.913514 -0.377294\n",
       "3575  aa43a9471d001423711806402efdaaad  noid.amb.d  0.913514 -0.455585\n",
       "\n",
       "[1615 rows x 4 columns]"
      ]
     },
     "execution_count": 639,
     "metadata": {},
     "output_type": "execute_result"
    }
   ],
   "source": [
    "import pandas as pd\n",
    "import numpy as np\n",
    "import csv\n",
    "\n",
    "from sklearn.model_selection import train_test_split\n",
    "from sklearn.metrics import accuracy_score\n",
    "\n",
    "content = []\n",
    "fieldnames = ['reception_time', 'ip', 'controller',\n",
    "             'order', 'n', 'label', 'lsg', 'sentence', 'answer',\n",
    "             'correct', 'time']\n",
    "\n",
    "with open('results.csv', 'r') as f:\n",
    "    rdr = csv.DictReader(filter(lambda row: row[0]!='#', f), fieldnames=fieldnames)\n",
    "    for line in rdr:\n",
    "        content.append(line)\n",
    "            \n",
    "df = pd.DataFrame.from_dict(content)\n",
    "data = df.groupby('sentence').bfill()\n",
    "data.drop(data[data['label'] == 'id.amb.c'].index, inplace=True)\n",
    "data.drop(data[data['correct'] != 'NULL'].index, inplace=True)\n",
    "data.drop(data[data['controller'] != 'AcceptabilityJudgment'].index, inplace=True)\n",
    "data.drop(columns=['correct', 'order', 'n', 'lsg', 'reception_time', 'controller'], inplace=True)\n",
    "data['answer'] = data['answer'].astype(int)\n",
    "wrong_ips = ['182132ac5a39cb9901f7d219aee9725d',\n",
    " '360d4f219052372d21805b75b756c4fa',\n",
    " '94745e41b11a01b5629c2e12eafb12e7',\n",
    " 'b38d667475915e4099823b83896cf4ae']\n",
    "for wrong in wrong_ips:\n",
    "    data.drop(data.loc[data['ip'] == wrong].index, inplace=True)\n",
    "data['answer'] = data.groupby('ip')['answer'].transform(lambda x: (x - x.mean()) / x.std())\n",
    "\n",
    "from sklearn.preprocessing import StandardScaler\n",
    "\n",
    "scaler = StandardScaler()\n",
    "\n",
    "def standardise(x):\n",
    "    scaler.fit(x)\n",
    "    return scaler.transform(x)\n",
    "\n",
    "#data[['answer', 'time']] = standardise(np.array(data[['answer', 'time']]))\n",
    "data['time'] = standardise(np.array(data['time']).reshape(-1, 1))\n",
    "data"
   ]
  },
  {
   "cell_type": "code",
   "execution_count": 640,
   "id": "b02cff0c",
   "metadata": {
    "scrolled": false
   },
   "outputs": [
    {
     "name": "stderr",
     "output_type": "stream",
     "text": [
      "<ipython-input-640-2e6f1a5fa54f>:2: SettingWithCopyWarning: \n",
      "A value is trying to be set on a copy of a slice from a DataFrame.\n",
      "Try using .loc[row_indexer,col_indexer] = value instead\n",
      "\n",
      "See the caveats in the documentation: https://pandas.pydata.org/pandas-docs/stable/user_guide/indexing.html#returning-a-view-versus-a-copy\n",
      "  fillers['grammatical'] = fillers['label'].str[1]\n",
      "<ipython-input-640-2e6f1a5fa54f>:3: SettingWithCopyWarning: \n",
      "A value is trying to be set on a copy of a slice from a DataFrame.\n",
      "Try using .loc[row_indexer,col_indexer] = value instead\n",
      "\n",
      "See the caveats in the documentation: https://pandas.pydata.org/pandas-docs/stable/user_guide/indexing.html#returning-a-view-versus-a-copy\n",
      "  fillers['grammatical'] = fillers['grammatical'].map({'u':0, 'g':1})\n",
      "/Users/shikunova/opt/anaconda3/lib/python3.8/site-packages/pandas/core/frame.py:4308: SettingWithCopyWarning: \n",
      "A value is trying to be set on a copy of a slice from a DataFrame\n",
      "\n",
      "See the caveats in the documentation: https://pandas.pydata.org/pandas-docs/stable/user_guide/indexing.html#returning-a-view-versus-a-copy\n",
      "  return super().drop(\n"
     ]
    },
    {
     "data": {
      "text/html": [
       "<div>\n",
       "<style scoped>\n",
       "    .dataframe tbody tr th:only-of-type {\n",
       "        vertical-align: middle;\n",
       "    }\n",
       "\n",
       "    .dataframe tbody tr th {\n",
       "        vertical-align: top;\n",
       "    }\n",
       "\n",
       "    .dataframe thead th {\n",
       "        text-align: right;\n",
       "    }\n",
       "</style>\n",
       "<table border=\"1\" class=\"dataframe\">\n",
       "  <thead>\n",
       "    <tr style=\"text-align: right;\">\n",
       "      <th></th>\n",
       "      <th>answer</th>\n",
       "      <th>time</th>\n",
       "      <th>grammatical</th>\n",
       "    </tr>\n",
       "  </thead>\n",
       "  <tbody>\n",
       "    <tr>\n",
       "      <th>5</th>\n",
       "      <td>-1.019287</td>\n",
       "      <td>-0.578412</td>\n",
       "      <td>0</td>\n",
       "    </tr>\n",
       "    <tr>\n",
       "      <th>9</th>\n",
       "      <td>1.089583</td>\n",
       "      <td>-0.479025</td>\n",
       "      <td>1</td>\n",
       "    </tr>\n",
       "    <tr>\n",
       "      <th>11</th>\n",
       "      <td>-1.019287</td>\n",
       "      <td>-0.525169</td>\n",
       "      <td>0</td>\n",
       "    </tr>\n",
       "    <tr>\n",
       "      <th>15</th>\n",
       "      <td>1.089583</td>\n",
       "      <td>-0.340727</td>\n",
       "      <td>1</td>\n",
       "    </tr>\n",
       "    <tr>\n",
       "      <th>17</th>\n",
       "      <td>-1.019287</td>\n",
       "      <td>-0.530326</td>\n",
       "      <td>0</td>\n",
       "    </tr>\n",
       "    <tr>\n",
       "      <th>...</th>\n",
       "      <td>...</td>\n",
       "      <td>...</td>\n",
       "      <td>...</td>\n",
       "    </tr>\n",
       "    <tr>\n",
       "      <th>3555</th>\n",
       "      <td>0.517658</td>\n",
       "      <td>-0.352313</td>\n",
       "      <td>1</td>\n",
       "    </tr>\n",
       "    <tr>\n",
       "      <th>3561</th>\n",
       "      <td>-1.461622</td>\n",
       "      <td>-0.354590</td>\n",
       "      <td>0</td>\n",
       "    </tr>\n",
       "    <tr>\n",
       "      <th>3563</th>\n",
       "      <td>0.913514</td>\n",
       "      <td>-0.146173</td>\n",
       "      <td>1</td>\n",
       "    </tr>\n",
       "    <tr>\n",
       "      <th>3569</th>\n",
       "      <td>-1.461622</td>\n",
       "      <td>-0.382049</td>\n",
       "      <td>0</td>\n",
       "    </tr>\n",
       "    <tr>\n",
       "      <th>3571</th>\n",
       "      <td>0.913514</td>\n",
       "      <td>-0.474538</td>\n",
       "      <td>1</td>\n",
       "    </tr>\n",
       "  </tbody>\n",
       "</table>\n",
       "<p>876 rows × 3 columns</p>\n",
       "</div>"
      ],
      "text/plain": [
       "        answer      time  grammatical\n",
       "5    -1.019287 -0.578412            0\n",
       "9     1.089583 -0.479025            1\n",
       "11   -1.019287 -0.525169            0\n",
       "15    1.089583 -0.340727            1\n",
       "17   -1.019287 -0.530326            0\n",
       "...        ...       ...          ...\n",
       "3555  0.517658 -0.352313            1\n",
       "3561 -1.461622 -0.354590            0\n",
       "3563  0.913514 -0.146173            1\n",
       "3569 -1.461622 -0.382049            0\n",
       "3571  0.913514 -0.474538            1\n",
       "\n",
       "[876 rows x 3 columns]"
      ]
     },
     "execution_count": 640,
     "metadata": {},
     "output_type": "execute_result"
    }
   ],
   "source": [
    "fillers = data[data['label'].str.startswith('F')]\n",
    "fillers['grammatical'] = fillers['label'].str[1]\n",
    "fillers['grammatical'] = fillers['grammatical'].map({'u':0, 'g':1})\n",
    "fillers.drop(columns=['ip', 'label'], inplace=True)\n",
    "#fillers.to_csv('fillers.csv', index=False)\n",
    "fillers"
   ]
  },
  {
   "cell_type": "code",
   "execution_count": 641,
   "id": "d6d5b9d2",
   "metadata": {
    "scrolled": true
   },
   "outputs": [
    {
     "name": "stderr",
     "output_type": "stream",
     "text": [
      "<ipython-input-641-6b5c8214a1ca>:2: SettingWithCopyWarning: \n",
      "A value is trying to be set on a copy of a slice from a DataFrame.\n",
      "Try using .loc[row_indexer,col_indexer] = value instead\n",
      "\n",
      "See the caveats in the documentation: https://pandas.pydata.org/pandas-docs/stable/user_guide/indexing.html#returning-a-view-versus-a-copy\n",
      "  test['idiom'] = test['label'].apply(lambda x: x.split('.')[0])\n",
      "<ipython-input-641-6b5c8214a1ca>:3: SettingWithCopyWarning: \n",
      "A value is trying to be set on a copy of a slice from a DataFrame.\n",
      "Try using .loc[row_indexer,col_indexer] = value instead\n",
      "\n",
      "See the caveats in the documentation: https://pandas.pydata.org/pandas-docs/stable/user_guide/indexing.html#returning-a-view-versus-a-copy\n",
      "  test['type'] = test['label'].apply(lambda x: x.split('.')[1])\n",
      "<ipython-input-641-6b5c8214a1ca>:4: SettingWithCopyWarning: \n",
      "A value is trying to be set on a copy of a slice from a DataFrame.\n",
      "Try using .loc[row_indexer,col_indexer] = value instead\n",
      "\n",
      "See the caveats in the documentation: https://pandas.pydata.org/pandas-docs/stable/user_guide/indexing.html#returning-a-view-versus-a-copy\n",
      "  test['idiom'] = test['idiom'].map({'id':1, 'noid':0})\n",
      "/Users/shikunova/opt/anaconda3/lib/python3.8/site-packages/pandas/core/frame.py:3191: SettingWithCopyWarning: \n",
      "A value is trying to be set on a copy of a slice from a DataFrame.\n",
      "Try using .loc[row_indexer,col_indexer] = value instead\n",
      "\n",
      "See the caveats in the documentation: https://pandas.pydata.org/pandas-docs/stable/user_guide/indexing.html#returning-a-view-versus-a-copy\n",
      "  self[k1] = value[k2]\n",
      "/Users/shikunova/opt/anaconda3/lib/python3.8/site-packages/pandas/core/frame.py:4308: SettingWithCopyWarning: \n",
      "A value is trying to be set on a copy of a slice from a DataFrame\n",
      "\n",
      "See the caveats in the documentation: https://pandas.pydata.org/pandas-docs/stable/user_guide/indexing.html#returning-a-view-versus-a-copy\n",
      "  return super().drop(\n"
     ]
    },
    {
     "data": {
      "text/html": [
       "<div>\n",
       "<style scoped>\n",
       "    .dataframe tbody tr th:only-of-type {\n",
       "        vertical-align: middle;\n",
       "    }\n",
       "\n",
       "    .dataframe tbody tr th {\n",
       "        vertical-align: top;\n",
       "    }\n",
       "\n",
       "    .dataframe thead th {\n",
       "        text-align: right;\n",
       "    }\n",
       "</style>\n",
       "<table border=\"1\" class=\"dataframe\">\n",
       "  <thead>\n",
       "    <tr style=\"text-align: right;\">\n",
       "      <th></th>\n",
       "      <th>answer</th>\n",
       "      <th>time</th>\n",
       "      <th>idiom</th>\n",
       "      <th>amb</th>\n",
       "      <th>obj</th>\n",
       "      <th>sub</th>\n",
       "    </tr>\n",
       "  </thead>\n",
       "  <tbody>\n",
       "    <tr>\n",
       "      <th>0</th>\n",
       "      <td>-1.019287</td>\n",
       "      <td>-0.361890</td>\n",
       "      <td>1</td>\n",
       "      <td>0</td>\n",
       "      <td>0</td>\n",
       "      <td>1</td>\n",
       "    </tr>\n",
       "    <tr>\n",
       "      <th>1</th>\n",
       "      <td>0.738105</td>\n",
       "      <td>-0.330279</td>\n",
       "      <td>1</td>\n",
       "      <td>0</td>\n",
       "      <td>1</td>\n",
       "      <td>0</td>\n",
       "    </tr>\n",
       "    <tr>\n",
       "      <th>2</th>\n",
       "      <td>-1.019287</td>\n",
       "      <td>-0.548810</td>\n",
       "      <td>1</td>\n",
       "      <td>1</td>\n",
       "      <td>0</td>\n",
       "      <td>0</td>\n",
       "    </tr>\n",
       "    <tr>\n",
       "      <th>3</th>\n",
       "      <td>0.386626</td>\n",
       "      <td>-0.557115</td>\n",
       "      <td>1</td>\n",
       "      <td>0</td>\n",
       "      <td>1</td>\n",
       "      <td>0</td>\n",
       "    </tr>\n",
       "    <tr>\n",
       "      <th>4</th>\n",
       "      <td>-0.316331</td>\n",
       "      <td>-0.219239</td>\n",
       "      <td>1</td>\n",
       "      <td>1</td>\n",
       "      <td>0</td>\n",
       "      <td>0</td>\n",
       "    </tr>\n",
       "    <tr>\n",
       "      <th>...</th>\n",
       "      <td>...</td>\n",
       "      <td>...</td>\n",
       "      <td>...</td>\n",
       "      <td>...</td>\n",
       "      <td>...</td>\n",
       "      <td>...</td>\n",
       "    </tr>\n",
       "    <tr>\n",
       "      <th>588</th>\n",
       "      <td>0.913514</td>\n",
       "      <td>-0.567495</td>\n",
       "      <td>0</td>\n",
       "      <td>0</td>\n",
       "      <td>1</td>\n",
       "      <td>0</td>\n",
       "    </tr>\n",
       "    <tr>\n",
       "      <th>589</th>\n",
       "      <td>0.913514</td>\n",
       "      <td>0.129017</td>\n",
       "      <td>1</td>\n",
       "      <td>0</td>\n",
       "      <td>1</td>\n",
       "      <td>0</td>\n",
       "    </tr>\n",
       "    <tr>\n",
       "      <th>590</th>\n",
       "      <td>0.913514</td>\n",
       "      <td>-0.532536</td>\n",
       "      <td>0</td>\n",
       "      <td>0</td>\n",
       "      <td>0</td>\n",
       "      <td>1</td>\n",
       "    </tr>\n",
       "    <tr>\n",
       "      <th>591</th>\n",
       "      <td>0.913514</td>\n",
       "      <td>-0.377294</td>\n",
       "      <td>1</td>\n",
       "      <td>1</td>\n",
       "      <td>0</td>\n",
       "      <td>0</td>\n",
       "    </tr>\n",
       "    <tr>\n",
       "      <th>592</th>\n",
       "      <td>0.913514</td>\n",
       "      <td>-0.455585</td>\n",
       "      <td>0</td>\n",
       "      <td>1</td>\n",
       "      <td>0</td>\n",
       "      <td>0</td>\n",
       "    </tr>\n",
       "  </tbody>\n",
       "</table>\n",
       "<p>593 rows × 6 columns</p>\n",
       "</div>"
      ],
      "text/plain": [
       "       answer      time  idiom  amb  obj  sub\n",
       "0   -1.019287 -0.361890      1    0    0    1\n",
       "1    0.738105 -0.330279      1    0    1    0\n",
       "2   -1.019287 -0.548810      1    1    0    0\n",
       "3    0.386626 -0.557115      1    0    1    0\n",
       "4   -0.316331 -0.219239      1    1    0    0\n",
       "..        ...       ...    ...  ...  ...  ...\n",
       "588  0.913514 -0.567495      0    0    1    0\n",
       "589  0.913514  0.129017      1    0    1    0\n",
       "590  0.913514 -0.532536      0    0    0    1\n",
       "591  0.913514 -0.377294      1    1    0    0\n",
       "592  0.913514 -0.455585      0    1    0    0\n",
       "\n",
       "[593 rows x 6 columns]"
      ]
     },
     "execution_count": 641,
     "metadata": {},
     "output_type": "execute_result"
    }
   ],
   "source": [
    "test = data[(data['label'].str.startswith('id')) | (data['label'].str.startswith('no'))]\n",
    "test['idiom'] = test['label'].apply(lambda x: x.split('.')[0])\n",
    "test['type'] = test['label'].apply(lambda x: x.split('.')[1])\n",
    "test['idiom'] = test['idiom'].map({'id':1, 'noid':0})\n",
    "test[['amb', 'obj', 'sub']] = pd.get_dummies(test['type'])\n",
    "test.reset_index(drop=True, inplace=True)\n",
    "#test['answer'] = test.groupby('ip')['answer'].transform('std')\n",
    "test.drop(columns=['type', 'label', 'ip'], inplace=True)\n",
    "test.to_csv('test_items.csv', index=False)\n",
    "test"
   ]
  },
  {
   "cell_type": "markdown",
   "id": "ebfc7221",
   "metadata": {},
   "source": [
    "## factor analysis"
   ]
  },
  {
   "cell_type": "code",
   "execution_count": 605,
   "id": "e2709a26",
   "metadata": {},
   "outputs": [
    {
     "data": {
      "text/plain": [
       "(624, 5)"
      ]
     },
     "execution_count": 605,
     "metadata": {},
     "output_type": "execute_result"
    }
   ],
   "source": [
    "from sklearn.decomposition import FactorAnalysis\n",
    "\n",
    "X = np.array(test[test.columns[1:]])\n",
    "transformer = FactorAnalysis(n_components=7, random_state=0)\n",
    "X = transformer.fit_transform(X)\n",
    "X.shape"
   ]
  },
  {
   "cell_type": "markdown",
   "id": "ac370a51",
   "metadata": {},
   "source": [
    "### linear regression"
   ]
  },
  {
   "cell_type": "code",
   "execution_count": 642,
   "id": "18ea4520",
   "metadata": {},
   "outputs": [
    {
     "name": "stdout",
     "output_type": "stream",
     "text": [
      "[ 0.01873093 -0.32205902 -0.16984195 -0.07017779  0.24001974]\n",
      "Index(['time', 'idiom', 'amb', 'obj', 'sub'], dtype='object')\n"
     ]
    }
   ],
   "source": [
    "from sklearn.linear_model import LinearRegression\n",
    "from sklearn.metrics import mean_absolute_error\n",
    "\n",
    "X = np.array(test[test.columns[1:]])\n",
    "y = np.array(test['answer'])\n",
    "\n",
    "X_train, X_test, y_train, y_test = train_test_split(X, y, test_size=0.5, random_state=0)\n",
    "\n",
    "model = LinearRegression()\n",
    "model.fit(X_train, y_train)\n",
    "preds_train = model.predict(X_train)\n",
    "preds_test = model.predict(X_test)\n",
    "\n",
    "print(model.coef_)\n",
    "print(test.columns[1:])"
   ]
  },
  {
   "cell_type": "code",
   "execution_count": 643,
   "id": "1b58567b",
   "metadata": {},
   "outputs": [
    {
     "data": {
      "image/png": "[encoded data removed]",
      "text/plain": [
       "<Figure size 432x288 with 1 Axes>"
      ]
     },
     "metadata": {
      "needs_background": "light"
     },
     "output_type": "display_data"
    },
    {
     "data": {
      "text/plain": [
       "<Figure size 432x288 with 0 Axes>"
      ]
     },
     "metadata": {},
     "output_type": "display_data"
    }
   ],
   "source": [
    "import matplotlib.pyplot as plt\n",
    "%matplotlib inline\n",
    "\n",
    "Y = model.coef_\n",
    "x = list(test.columns[1:])\n",
    "\n",
    "plt.bar(x, Y, color='pink')\n",
    "plt.show()\n",
    "plt.savefig('weights.png')"
   ]
  },
  {
   "cell_type": "code",
   "execution_count": 601,
   "id": "adf3688c",
   "metadata": {},
   "outputs": [
    {
     "data": {
      "text/html": [
       "<div>\n",
       "<style scoped>\n",
       "    .dataframe tbody tr th:only-of-type {\n",
       "        vertical-align: middle;\n",
       "    }\n",
       "\n",
       "    .dataframe tbody tr th {\n",
       "        vertical-align: top;\n",
       "    }\n",
       "\n",
       "    .dataframe thead th {\n",
       "        text-align: right;\n",
       "    }\n",
       "</style>\n",
       "<table border=\"1\" class=\"dataframe\">\n",
       "  <thead>\n",
       "    <tr style=\"text-align: right;\">\n",
       "      <th></th>\n",
       "      <th>param</th>\n",
       "      <th>weight</th>\n",
       "    </tr>\n",
       "  </thead>\n",
       "  <tbody>\n",
       "    <tr>\n",
       "      <th>1</th>\n",
       "      <td>idiom</td>\n",
       "      <td>-0.293678</td>\n",
       "    </tr>\n",
       "    <tr>\n",
       "      <th>2</th>\n",
       "      <td>amb</td>\n",
       "      <td>-0.231647</td>\n",
       "    </tr>\n",
       "    <tr>\n",
       "      <th>3</th>\n",
       "      <td>obj</td>\n",
       "      <td>-0.026764</td>\n",
       "    </tr>\n",
       "    <tr>\n",
       "      <th>0</th>\n",
       "      <td>time</td>\n",
       "      <td>0.015194</td>\n",
       "    </tr>\n",
       "    <tr>\n",
       "      <th>4</th>\n",
       "      <td>sub</td>\n",
       "      <td>0.258411</td>\n",
       "    </tr>\n",
       "  </tbody>\n",
       "</table>\n",
       "</div>"
      ],
      "text/plain": [
       "   param    weight\n",
       "1  idiom -0.293678\n",
       "2    amb -0.231647\n",
       "3    obj -0.026764\n",
       "0   time  0.015194\n",
       "4    sub  0.258411"
      ]
     },
     "execution_count": 601,
     "metadata": {},
     "output_type": "execute_result"
    }
   ],
   "source": [
    "ws = pd.DataFrame({'param':x, 'weight':Y})\n",
    "ws = ws.sort_values(by=['weight'])\n",
    "ws.to_csv('weights.csv')\n",
    "ws"
   ]
  },
  {
   "cell_type": "code",
   "execution_count": 645,
   "id": "0134a50d",
   "metadata": {},
   "outputs": [
    {
     "name": "stdout",
     "output_type": "stream",
     "text": [
      "test predictions MAE:  0.5921085155981208\n"
     ]
    },
    {
     "data": {
      "text/plain": [
       "array([-1.4425848 , -0.72813614,  0.82289446, -1.03648399, -1.19893059,\n",
       "       -1.08151099,  0.82289446,  0.09161683, -0.07791205,  0.62562816,\n",
       "        0.96844   ,  0.58351745,  0.12180187,  0.71004432, -0.54958939,\n",
       "        0.87393187,  0.913514  ,  0.63933675,  1.1735909 ,  0.33804507,\n",
       "       -0.86111758, -0.23411043,  0.297746  ,  0.812835  ,  0.49173308,\n",
       "        0.97678941, -1.07038105,  0.73810463,  0.93392439, -1.54398692])"
      ]
     },
     "execution_count": 645,
     "metadata": {},
     "output_type": "execute_result"
    }
   ],
   "source": [
    "print('test predictions MAE: ', mean_absolute_error(y_test, preds_test))\n",
    "y_test[:30]"
   ]
  },
  {
   "cell_type": "markdown",
   "id": "d9836acd",
   "metadata": {},
   "source": [
    "### respondent simulator"
   ]
  },
  {
   "cell_type": "code",
   "execution_count": 532,
   "id": "b97ce74a",
   "metadata": {},
   "outputs": [
    {
     "data": {
      "text/plain": [
       "5.380207544876529"
      ]
     },
     "execution_count": 532,
     "metadata": {},
     "output_type": "execute_result"
    }
   ],
   "source": [
    "import random \n",
    "\n",
    "# 'time', 'idiom', 'amb', 'obj', 'sub'\n",
    "d = random.uniform(test['time'].min(), test['time'].max()) \n",
    "pred = model.predict(np.array([d, 1, 0, 1, 0]).reshape(1, -1))\n",
    "\n",
    "arr = np.array([1,1,1,1,1,1, # Fu\n",
    "         7,7,7,7,7,7, # Fg\n",
    "         7,6,7,6,6,7, # no idiom\n",
    "        random.randrange(1, 8),random.randrange(1, 8),random.randrange(1, 8),\n",
    "        random.randrange(1, 8),random.randrange(1, 8),random.randrange(1, 8)])\n",
    "\n",
    "ans = pred * arr.std() + arr.mean()\n",
    "ans[0]"
   ]
  },
  {
   "cell_type": "code",
   "execution_count": 533,
   "id": "0baa208d",
   "metadata": {},
   "outputs": [
    {
     "data": {
      "text/plain": [
       "<AxesSubplot:xlabel='type', ylabel='idiom'>"
      ]
     },
     "execution_count": 533,
     "metadata": {},
     "output_type": "execute_result"
    },
    {
     "data": {
      "image/png": "[encoded data removed]",
      "text/plain": [
       "<Figure size 432x288 with 3 Axes>"
      ]
     },
     "metadata": {
      "needs_background": "light"
     },
     "output_type": "display_data"
    }
   ],
   "source": [
    "t_c = {\n",
    "    'amb': [1,0,0],\n",
    "    'obj': [0,1,0],\n",
    "    'sub': [0,0,1]\n",
    "}\n",
    "l0 = []\n",
    "l1 = []\n",
    "\n",
    "for key in t_c:\n",
    "    d = random.uniform(test['time'].min(), test['time'].max()) \n",
    "    pred = model.predict(np.array([d, 0] + t_c[key]).reshape(1, -1))[0]\n",
    "    l0.append(pred * arr.std() + arr.mean())\n",
    "    \n",
    "for key in t_c:\n",
    "    d = random.uniform(test['time'].min(), test['time'].max()) \n",
    "    pred = model.predict(np.array([d, 1] + t_c[key]).reshape(1, -1))[0]\n",
    "    l1.append(pred * arr.std() + arr.mean())\n",
    "\n",
    "labels = pd.DataFrame({'idiom': [0, 1, 0, 1, 0, 1],\n",
    "                      'type': ['amb','obj','sub','amb','obj','sub'],\n",
    "                      'answer': [0,0,0,0,0,0]})\n",
    "    \n",
    "hm = np.array([l0, l1])\n",
    "sns.heatmap(hm, annot=True)\n",
    "sns.heatmap(data=labels.pivot('idiom', 'type', 'answer'), alpha=0.0)"
   ]
  },
  {
   "cell_type": "markdown",
   "id": "a32211c1",
   "metadata": {},
   "source": [
    "### linearSVC"
   ]
  },
  {
   "cell_type": "code",
   "execution_count": 574,
   "id": "dd6c5a67",
   "metadata": {},
   "outputs": [
    {
     "data": {
      "text/html": [
       "<div>\n",
       "<style scoped>\n",
       "    .dataframe tbody tr th:only-of-type {\n",
       "        vertical-align: middle;\n",
       "    }\n",
       "\n",
       "    .dataframe tbody tr th {\n",
       "        vertical-align: top;\n",
       "    }\n",
       "\n",
       "    .dataframe thead th {\n",
       "        text-align: right;\n",
       "    }\n",
       "</style>\n",
       "<table border=\"1\" class=\"dataframe\">\n",
       "  <thead>\n",
       "    <tr style=\"text-align: right;\">\n",
       "      <th></th>\n",
       "      <th>label</th>\n",
       "      <th>sentence</th>\n",
       "      <th>answer</th>\n",
       "      <th>time</th>\n",
       "      <th>idiom</th>\n",
       "      <th>type</th>\n",
       "      <th>amb</th>\n",
       "      <th>obj</th>\n",
       "      <th>sub</th>\n",
       "    </tr>\n",
       "  </thead>\n",
       "  <tbody>\n",
       "    <tr>\n",
       "      <th>6</th>\n",
       "      <td>id.sub.a</td>\n",
       "      <td>Егор продолжал биться над поделкой%2C но работ...</td>\n",
       "      <td>1</td>\n",
       "      <td>7122</td>\n",
       "      <td>1</td>\n",
       "      <td>sub</td>\n",
       "      <td>0</td>\n",
       "      <td>0</td>\n",
       "      <td>1</td>\n",
       "    </tr>\n",
       "    <tr>\n",
       "      <th>12</th>\n",
       "      <td>id.obj.a</td>\n",
       "      <td>Контора неумолимо приближалась к банкротству%2...</td>\n",
       "      <td>6</td>\n",
       "      <td>7594</td>\n",
       "      <td>1</td>\n",
       "      <td>obj</td>\n",
       "      <td>0</td>\n",
       "      <td>1</td>\n",
       "      <td>0</td>\n",
       "    </tr>\n",
       "    <tr>\n",
       "      <th>18</th>\n",
       "      <td>id.amb.d</td>\n",
       "      <td>Разрушительная война наконец закончилась%2C и ...</td>\n",
       "      <td>1</td>\n",
       "      <td>4331</td>\n",
       "      <td>1</td>\n",
       "      <td>amb</td>\n",
       "      <td>1</td>\n",
       "      <td>0</td>\n",
       "      <td>0</td>\n",
       "    </tr>\n",
       "    <tr>\n",
       "      <th>24</th>\n",
       "      <td>id.obj.d</td>\n",
       "      <td>Напряженное молчание заставляло атмосферу сгущ...</td>\n",
       "      <td>5</td>\n",
       "      <td>4207</td>\n",
       "      <td>1</td>\n",
       "      <td>obj</td>\n",
       "      <td>0</td>\n",
       "      <td>1</td>\n",
       "      <td>0</td>\n",
       "    </tr>\n",
       "    <tr>\n",
       "      <th>30</th>\n",
       "      <td>id.amb.a</td>\n",
       "      <td>Дружелюбный настрой Костиных новых знакомых и ...</td>\n",
       "      <td>3</td>\n",
       "      <td>9252</td>\n",
       "      <td>1</td>\n",
       "      <td>amb</td>\n",
       "      <td>1</td>\n",
       "      <td>0</td>\n",
       "      <td>0</td>\n",
       "    </tr>\n",
       "    <tr>\n",
       "      <th>...</th>\n",
       "      <td>...</td>\n",
       "      <td>...</td>\n",
       "      <td>...</td>\n",
       "      <td>...</td>\n",
       "      <td>...</td>\n",
       "      <td>...</td>\n",
       "      <td>...</td>\n",
       "      <td>...</td>\n",
       "      <td>...</td>\n",
       "    </tr>\n",
       "    <tr>\n",
       "      <th>3558</th>\n",
       "      <td>noid.obj.a</td>\n",
       "      <td>Каждую субботу мама заставляет нас с сестрой у...</td>\n",
       "      <td>7</td>\n",
       "      <td>4052</td>\n",
       "      <td>0</td>\n",
       "      <td>obj</td>\n",
       "      <td>0</td>\n",
       "      <td>1</td>\n",
       "      <td>0</td>\n",
       "    </tr>\n",
       "    <tr>\n",
       "      <th>3564</th>\n",
       "      <td>id.obj.a</td>\n",
       "      <td>Контора неумолимо приближалась к банкротству%2...</td>\n",
       "      <td>7</td>\n",
       "      <td>14452</td>\n",
       "      <td>1</td>\n",
       "      <td>obj</td>\n",
       "      <td>0</td>\n",
       "      <td>1</td>\n",
       "      <td>0</td>\n",
       "    </tr>\n",
       "    <tr>\n",
       "      <th>3566</th>\n",
       "      <td>noid.sub.d</td>\n",
       "      <td>Все уже были готовы выезжать%2C когда позвонил...</td>\n",
       "      <td>7</td>\n",
       "      <td>4574</td>\n",
       "      <td>0</td>\n",
       "      <td>sub</td>\n",
       "      <td>0</td>\n",
       "      <td>0</td>\n",
       "      <td>1</td>\n",
       "    </tr>\n",
       "    <tr>\n",
       "      <th>3572</th>\n",
       "      <td>id.amb.a</td>\n",
       "      <td>Дружелюбный настрой Костиных новых знакомых и ...</td>\n",
       "      <td>7</td>\n",
       "      <td>6892</td>\n",
       "      <td>1</td>\n",
       "      <td>amb</td>\n",
       "      <td>1</td>\n",
       "      <td>0</td>\n",
       "      <td>0</td>\n",
       "    </tr>\n",
       "    <tr>\n",
       "      <th>3574</th>\n",
       "      <td>noid.amb.d</td>\n",
       "      <td>Директор недавно приказал закрывать раздевалки...</td>\n",
       "      <td>7</td>\n",
       "      <td>5723</td>\n",
       "      <td>0</td>\n",
       "      <td>amb</td>\n",
       "      <td>1</td>\n",
       "      <td>0</td>\n",
       "      <td>0</td>\n",
       "    </tr>\n",
       "  </tbody>\n",
       "</table>\n",
       "<p>624 rows × 9 columns</p>\n",
       "</div>"
      ],
      "text/plain": [
       "           label                                           sentence  answer  \\\n",
       "6       id.sub.a  Егор продолжал биться над поделкой%2C но работ...       1   \n",
       "12      id.obj.a  Контора неумолимо приближалась к банкротству%2...       6   \n",
       "18      id.amb.d  Разрушительная война наконец закончилась%2C и ...       1   \n",
       "24      id.obj.d  Напряженное молчание заставляло атмосферу сгущ...       5   \n",
       "30      id.amb.a  Дружелюбный настрой Костиных новых знакомых и ...       3   \n",
       "...          ...                                                ...     ...   \n",
       "3558  noid.obj.a  Каждую субботу мама заставляет нас с сестрой у...       7   \n",
       "3564    id.obj.a  Контора неумолимо приближалась к банкротству%2...       7   \n",
       "3566  noid.sub.d  Все уже были готовы выезжать%2C когда позвонил...       7   \n",
       "3572    id.amb.a  Дружелюбный настрой Костиных новых знакомых и ...       7   \n",
       "3574  noid.amb.d  Директор недавно приказал закрывать раздевалки...       7   \n",
       "\n",
       "       time  idiom type  amb  obj  sub  \n",
       "6      7122      1  sub    0    0    1  \n",
       "12     7594      1  obj    0    1    0  \n",
       "18     4331      1  amb    1    0    0  \n",
       "24     4207      1  obj    0    1    0  \n",
       "30     9252      1  amb    1    0    0  \n",
       "...     ...    ...  ...  ...  ...  ...  \n",
       "3558   4052      0  obj    0    1    0  \n",
       "3564  14452      1  obj    0    1    0  \n",
       "3566   4574      0  sub    0    0    1  \n",
       "3572   6892      1  amb    1    0    0  \n",
       "3574   5723      0  amb    1    0    0  \n",
       "\n",
       "[624 rows x 9 columns]"
      ]
     },
     "execution_count": 574,
     "metadata": {},
     "output_type": "execute_result"
    }
   ],
   "source": [
    "from sklearn.svm import LinearSVC\n",
    "import numpy as np\n",
    "\n",
    "content = []\n",
    "fieldnames = ['reception_time', 'ip', 'controller',\n",
    "             'order', 'n', 'label', 'lsg', 'sentence', 'answer',\n",
    "             'correct', 'time']\n",
    "\n",
    "with open('results.csv', 'r') as f:\n",
    "    rdr = csv.DictReader(filter(lambda row: row[0]!='#', f), fieldnames=fieldnames)\n",
    "    for line in rdr:\n",
    "        content.append(line)\n",
    "            \n",
    "df = pd.DataFrame.from_dict(content)\n",
    "for wrong in wrong_ips:\n",
    "    df.drop(df.loc[df['ip'] == wrong].index, inplace=True)\n",
    "data = df.groupby('ip').bfill()\n",
    "data = data[(data['label'].str.startswith('id')) | (data['label'].str.startswith('no'))]\n",
    "data.drop(data[data['sentence'] == 'NULL'].index, inplace=True)\n",
    "data.drop(data[data['controller'] != 'AcceptabilityJudgment'].index, inplace=True)\n",
    "data.drop(columns=['correct', 'order', 'n', 'lsg', 'reception_time', 'controller'], inplace=True)\n",
    "data['answer'] = data['answer'].astype(int)\n",
    "data['idiom'] = data['label'].apply(lambda x: x.split('.')[0])\n",
    "data['type'] = data['label'].apply(lambda x: x.split('.')[1])\n",
    "data['idiom'] = data['idiom'].map({'id':1, 'noid':0})\n",
    "data[['amb', 'obj', 'sub']] = pd.get_dummies(data['type'])\n",
    "data"
   ]
  },
  {
   "cell_type": "code",
   "execution_count": 536,
   "id": "9a4aa279",
   "metadata": {
    "scrolled": true
   },
   "outputs": [
    {
     "name": "stdout",
     "output_type": "stream",
     "text": [
      "test accuracy:  0.1232876712328767\n"
     ]
    },
    {
     "name": "stderr",
     "output_type": "stream",
     "text": [
      "/Users/shikunova/opt/anaconda3/lib/python3.8/site-packages/sklearn/svm/_base.py:985: ConvergenceWarning: Liblinear failed to converge, increase the number of iterations.\n",
      "  warnings.warn(\"Liblinear failed to converge, increase \"\n"
     ]
    },
    {
     "data": {
      "text/plain": [
       "array([1, 2, 3, 4, 5, 6, 7])"
      ]
     },
     "execution_count": 536,
     "metadata": {},
     "output_type": "execute_result"
    }
   ],
   "source": [
    "t = data.loc[data['idiom'] == 1]\n",
    "\n",
    "y = np.array(t['answer'])\n",
    "X = np.array(t[['idiom', 'amb', 'sub', 'obj', 'time']])\n",
    "\n",
    "X_train, X_test, y_train, y_test = train_test_split(X, y, test_size=0.5, random_state=0)\n",
    "\n",
    "model = LinearSVC(random_state=0, tol=1e-7)\n",
    "model.fit(X_train, y_train)\n",
    "preds_train = model.predict(X_train)\n",
    "preds_test = model.predict(X_test)\n",
    "\n",
    "print('test accuracy: ', accuracy_score(y_test, preds_test))\n",
    "\n",
    "model.classes_"
   ]
  },
  {
   "cell_type": "code",
   "execution_count": 537,
   "id": "6c2fc91a",
   "metadata": {
    "scrolled": true
   },
   "outputs": [
    {
     "data": {
      "image/png": "[encoded data removed]",
      "text/plain": [
       "<Figure size 432x288 with 1 Axes>"
      ]
     },
     "metadata": {
      "needs_background": "light"
     },
     "output_type": "display_data"
    }
   ],
   "source": [
    "from sklearn.decomposition import PCA\n",
    "from sklearn.decomposition import TruncatedSVD\n",
    "\n",
    "m = model.coef_.transpose()\n",
    "svd = TruncatedSVD(n_components=2, n_iter=7, random_state=42)\n",
    "svd.fit(m)\n",
    "XY = svd.components_.transpose()\n",
    "\n",
    "x = XY[:-1, 0]\n",
    "y = XY[:-1, 1]\n",
    "\n",
    "plt.scatter(x, y)\n",
    "for i, txt in enumerate(range(6)):\n",
    "    plt.annotate(txt, (x[i], y[i]))"
   ]
  },
  {
   "cell_type": "markdown",
   "id": "da7a8998",
   "metadata": {},
   "source": [
    "### fewer classes"
   ]
  },
  {
   "cell_type": "code",
   "execution_count": 615,
   "id": "f01340b0",
   "metadata": {},
   "outputs": [
    {
     "ename": "KeyError",
     "evalue": "\"['sub', 'obj', 'idiom', 'amb'] not in index\"",
     "output_type": "error",
     "traceback": [
      "\u001b[0;31m---------------------------------------------------------------------------\u001b[0m",
      "\u001b[0;31mKeyError\u001b[0m                                  Traceback (most recent call last)",
      "\u001b[0;32m<ipython-input-615-29bd9c95b9c6>\u001b[0m in \u001b[0;36m<module>\u001b[0;34m\u001b[0m\n\u001b[1;32m      4\u001b[0m \u001b[0mt\u001b[0m \u001b[0;34m=\u001b[0m \u001b[0mdata\u001b[0m\u001b[0;34m\u001b[0m\u001b[0;34m\u001b[0m\u001b[0m\n\u001b[1;32m      5\u001b[0m \u001b[0my\u001b[0m \u001b[0;34m=\u001b[0m \u001b[0mnp\u001b[0m\u001b[0;34m.\u001b[0m\u001b[0marray\u001b[0m\u001b[0;34m(\u001b[0m\u001b[0mt\u001b[0m\u001b[0;34m[\u001b[0m\u001b[0;34m'answer_short'\u001b[0m\u001b[0;34m]\u001b[0m\u001b[0;34m)\u001b[0m\u001b[0;34m\u001b[0m\u001b[0;34m\u001b[0m\u001b[0m\n\u001b[0;32m----> 6\u001b[0;31m \u001b[0mX\u001b[0m \u001b[0;34m=\u001b[0m \u001b[0mnp\u001b[0m\u001b[0;34m.\u001b[0m\u001b[0marray\u001b[0m\u001b[0;34m(\u001b[0m\u001b[0mt\u001b[0m\u001b[0;34m[\u001b[0m\u001b[0;34m[\u001b[0m\u001b[0;34m'idiom'\u001b[0m\u001b[0;34m,\u001b[0m \u001b[0;34m'amb'\u001b[0m\u001b[0;34m,\u001b[0m \u001b[0;34m'sub'\u001b[0m\u001b[0;34m,\u001b[0m \u001b[0;34m'obj'\u001b[0m\u001b[0;34m,\u001b[0m \u001b[0;34m'time'\u001b[0m\u001b[0;34m]\u001b[0m\u001b[0;34m]\u001b[0m\u001b[0;34m)\u001b[0m\u001b[0;34m\u001b[0m\u001b[0;34m\u001b[0m\u001b[0m\n\u001b[0m\u001b[1;32m      7\u001b[0m \u001b[0;34m\u001b[0m\u001b[0m\n\u001b[1;32m      8\u001b[0m \u001b[0mX_train\u001b[0m\u001b[0;34m,\u001b[0m \u001b[0mX_test\u001b[0m\u001b[0;34m,\u001b[0m \u001b[0my_train\u001b[0m\u001b[0;34m,\u001b[0m \u001b[0my_test\u001b[0m \u001b[0;34m=\u001b[0m \u001b[0mtrain_test_split\u001b[0m\u001b[0;34m(\u001b[0m\u001b[0mX\u001b[0m\u001b[0;34m,\u001b[0m \u001b[0my\u001b[0m\u001b[0;34m,\u001b[0m \u001b[0mtest_size\u001b[0m\u001b[0;34m=\u001b[0m\u001b[0;36m0.5\u001b[0m\u001b[0;34m,\u001b[0m \u001b[0mrandom_state\u001b[0m\u001b[0;34m=\u001b[0m\u001b[0;36m0\u001b[0m\u001b[0;34m)\u001b[0m\u001b[0;34m\u001b[0m\u001b[0;34m\u001b[0m\u001b[0m\n",
      "\u001b[0;32m~/opt/anaconda3/lib/python3.8/site-packages/pandas/core/frame.py\u001b[0m in \u001b[0;36m__getitem__\u001b[0;34m(self, key)\u001b[0m\n\u001b[1;32m   3028\u001b[0m             \u001b[0;32mif\u001b[0m \u001b[0mis_iterator\u001b[0m\u001b[0;34m(\u001b[0m\u001b[0mkey\u001b[0m\u001b[0;34m)\u001b[0m\u001b[0;34m:\u001b[0m\u001b[0;34m\u001b[0m\u001b[0;34m\u001b[0m\u001b[0m\n\u001b[1;32m   3029\u001b[0m                 \u001b[0mkey\u001b[0m \u001b[0;34m=\u001b[0m \u001b[0mlist\u001b[0m\u001b[0;34m(\u001b[0m\u001b[0mkey\u001b[0m\u001b[0;34m)\u001b[0m\u001b[0;34m\u001b[0m\u001b[0;34m\u001b[0m\u001b[0m\n\u001b[0;32m-> 3030\u001b[0;31m             \u001b[0mindexer\u001b[0m \u001b[0;34m=\u001b[0m \u001b[0mself\u001b[0m\u001b[0;34m.\u001b[0m\u001b[0mloc\u001b[0m\u001b[0;34m.\u001b[0m\u001b[0m_get_listlike_indexer\u001b[0m\u001b[0;34m(\u001b[0m\u001b[0mkey\u001b[0m\u001b[0;34m,\u001b[0m \u001b[0maxis\u001b[0m\u001b[0;34m=\u001b[0m\u001b[0;36m1\u001b[0m\u001b[0;34m,\u001b[0m \u001b[0mraise_missing\u001b[0m\u001b[0;34m=\u001b[0m\u001b[0;32mTrue\u001b[0m\u001b[0;34m)\u001b[0m\u001b[0;34m[\u001b[0m\u001b[0;36m1\u001b[0m\u001b[0;34m]\u001b[0m\u001b[0;34m\u001b[0m\u001b[0;34m\u001b[0m\u001b[0m\n\u001b[0m\u001b[1;32m   3031\u001b[0m \u001b[0;34m\u001b[0m\u001b[0m\n\u001b[1;32m   3032\u001b[0m         \u001b[0;31m# take() does not accept boolean indexers\u001b[0m\u001b[0;34m\u001b[0m\u001b[0;34m\u001b[0m\u001b[0;34m\u001b[0m\u001b[0m\n",
      "\u001b[0;32m~/opt/anaconda3/lib/python3.8/site-packages/pandas/core/indexing.py\u001b[0m in \u001b[0;36m_get_listlike_indexer\u001b[0;34m(self, key, axis, raise_missing)\u001b[0m\n\u001b[1;32m   1264\u001b[0m             \u001b[0mkeyarr\u001b[0m\u001b[0;34m,\u001b[0m \u001b[0mindexer\u001b[0m\u001b[0;34m,\u001b[0m \u001b[0mnew_indexer\u001b[0m \u001b[0;34m=\u001b[0m \u001b[0max\u001b[0m\u001b[0;34m.\u001b[0m\u001b[0m_reindex_non_unique\u001b[0m\u001b[0;34m(\u001b[0m\u001b[0mkeyarr\u001b[0m\u001b[0;34m)\u001b[0m\u001b[0;34m\u001b[0m\u001b[0;34m\u001b[0m\u001b[0m\n\u001b[1;32m   1265\u001b[0m \u001b[0;34m\u001b[0m\u001b[0m\n\u001b[0;32m-> 1266\u001b[0;31m         \u001b[0mself\u001b[0m\u001b[0;34m.\u001b[0m\u001b[0m_validate_read_indexer\u001b[0m\u001b[0;34m(\u001b[0m\u001b[0mkeyarr\u001b[0m\u001b[0;34m,\u001b[0m \u001b[0mindexer\u001b[0m\u001b[0;34m,\u001b[0m \u001b[0maxis\u001b[0m\u001b[0;34m,\u001b[0m \u001b[0mraise_missing\u001b[0m\u001b[0;34m=\u001b[0m\u001b[0mraise_missing\u001b[0m\u001b[0;34m)\u001b[0m\u001b[0;34m\u001b[0m\u001b[0;34m\u001b[0m\u001b[0m\n\u001b[0m\u001b[1;32m   1267\u001b[0m         \u001b[0;32mreturn\u001b[0m \u001b[0mkeyarr\u001b[0m\u001b[0;34m,\u001b[0m \u001b[0mindexer\u001b[0m\u001b[0;34m\u001b[0m\u001b[0;34m\u001b[0m\u001b[0m\n\u001b[1;32m   1268\u001b[0m \u001b[0;34m\u001b[0m\u001b[0m\n",
      "\u001b[0;32m~/opt/anaconda3/lib/python3.8/site-packages/pandas/core/indexing.py\u001b[0m in \u001b[0;36m_validate_read_indexer\u001b[0;34m(self, key, indexer, axis, raise_missing)\u001b[0m\n\u001b[1;32m   1314\u001b[0m             \u001b[0;32mif\u001b[0m \u001b[0mraise_missing\u001b[0m\u001b[0;34m:\u001b[0m\u001b[0;34m\u001b[0m\u001b[0;34m\u001b[0m\u001b[0m\n\u001b[1;32m   1315\u001b[0m                 \u001b[0mnot_found\u001b[0m \u001b[0;34m=\u001b[0m \u001b[0mlist\u001b[0m\u001b[0;34m(\u001b[0m\u001b[0mset\u001b[0m\u001b[0;34m(\u001b[0m\u001b[0mkey\u001b[0m\u001b[0;34m)\u001b[0m \u001b[0;34m-\u001b[0m \u001b[0mset\u001b[0m\u001b[0;34m(\u001b[0m\u001b[0max\u001b[0m\u001b[0;34m)\u001b[0m\u001b[0;34m)\u001b[0m\u001b[0;34m\u001b[0m\u001b[0;34m\u001b[0m\u001b[0m\n\u001b[0;32m-> 1316\u001b[0;31m                 \u001b[0;32mraise\u001b[0m \u001b[0mKeyError\u001b[0m\u001b[0;34m(\u001b[0m\u001b[0;34mf\"{not_found} not in index\"\u001b[0m\u001b[0;34m)\u001b[0m\u001b[0;34m\u001b[0m\u001b[0;34m\u001b[0m\u001b[0m\n\u001b[0m\u001b[1;32m   1317\u001b[0m \u001b[0;34m\u001b[0m\u001b[0m\n\u001b[1;32m   1318\u001b[0m             \u001b[0mnot_found\u001b[0m \u001b[0;34m=\u001b[0m \u001b[0mkey\u001b[0m\u001b[0;34m[\u001b[0m\u001b[0mmissing_mask\u001b[0m\u001b[0;34m]\u001b[0m\u001b[0;34m\u001b[0m\u001b[0;34m\u001b[0m\u001b[0m\n",
      "\u001b[0;31mKeyError\u001b[0m: \"['sub', 'obj', 'idiom', 'amb'] not in index\""
     ]
    }
   ],
   "source": [
    "data['answer_short'] = data['answer'].map({1:0, 2:0, 3:0, 4:1, 5:2, 6:2, 7:2})\n",
    "\n",
    "#t = data.loc[data['idiom'] == 1]\n",
    "t = data\n",
    "y = np.array(t['answer_short'])\n",
    "X = np.array(t[['idiom', 'amb', 'sub', 'obj', 'time']])\n",
    "\n",
    "X_train, X_test, y_train, y_test = train_test_split(X, y, test_size=0.5, random_state=0)\n",
    "\n",
    "model = LinearSVC(random_state=0, tol=1e-7)\n",
    "model.fit(X_train, y_train)\n",
    "preds_train = model.predict(X_train)\n",
    "preds_test = model.predict(X_test)\n",
    "\n",
    "print('test accuracy: ', accuracy_score(y_test, preds_test))\n",
    "\n",
    "print(model.coef_)"
   ]
  },
  {
   "cell_type": "code",
   "execution_count": 647,
   "id": "e00f2eab",
   "metadata": {},
   "outputs": [
    {
     "name": "stdout",
     "output_type": "stream",
     "text": [
      "test accuracy:  0.6734006734006734\n",
      "[[ 0.28607237  0.04833115 -0.35039961 -0.13120785 -0.01348752]\n",
      " [-0.01121221 -0.23299915 -0.24339505 -0.23572497 -0.03366314]\n",
      " [-0.28032501 -0.06502133  0.34440669  0.11900687  0.02944985]]\n"
     ]
    },
    {
     "name": "stderr",
     "output_type": "stream",
     "text": [
      "<ipython-input-647-790148113598>:13: SettingWithCopyWarning: \n",
      "A value is trying to be set on a copy of a slice from a DataFrame.\n",
      "Try using .loc[row_indexer,col_indexer] = value instead\n",
      "\n",
      "See the caveats in the documentation: https://pandas.pydata.org/pandas-docs/stable/user_guide/indexing.html#returning-a-view-versus-a-copy\n",
      "  t['answer_short'] = t['answer'].apply(mapper)\n",
      "/Users/shikunova/opt/anaconda3/lib/python3.8/site-packages/sklearn/svm/_base.py:985: ConvergenceWarning: Liblinear failed to converge, increase the number of iterations.\n",
      "  warnings.warn(\"Liblinear failed to converge, increase \"\n"
     ]
    }
   ],
   "source": [
    "r = 0.05\n",
    "\n",
    "def mapper(s):\n",
    "    if s < -r:\n",
    "        return 0\n",
    "    if s > r:\n",
    "        return 2\n",
    "    else:\n",
    "        return 1\n",
    "\n",
    "#t = data.loc[data['idiom'] == 1]\n",
    "t = test\n",
    "t['answer_short'] = t['answer'].apply(mapper)\n",
    "y = np.array(t['answer_short'])\n",
    "X = np.array(t[['idiom', 'amb', 'sub', 'obj', 'time']])\n",
    "\n",
    "X_train, X_test, y_train, y_test = train_test_split(X, y, test_size=0.5, random_state=0)\n",
    "\n",
    "model = LinearSVC(random_state=0, tol=1e-7)\n",
    "model.fit(X_train, y_train)\n",
    "preds_train = model.predict(X_train)\n",
    "preds_test = model.predict(X_test)\n",
    "\n",
    "print('test accuracy: ', accuracy_score(y_test, preds_test))\n",
    "\n",
    "print(model.coef_)"
   ]
  },
  {
   "cell_type": "code",
   "execution_count": 648,
   "id": "6b9e2a4a",
   "metadata": {},
   "outputs": [
    {
     "data": {
      "image/png": "[encoded data removed]",
      "text/plain": [
       "<Figure size 432x288 with 1 Axes>"
      ]
     },
     "metadata": {
      "needs_background": "light"
     },
     "output_type": "display_data"
    }
   ],
   "source": [
    "from sklearn.decomposition import PCA\n",
    "from sklearn.decomposition import TruncatedSVD\n",
    "\n",
    "m = model.coef_.transpose()\n",
    "svd = TruncatedSVD(n_components=2, n_iter=7, random_state=42)\n",
    "svd.fit(m)\n",
    "XY = svd.components_.transpose()\n",
    "\n",
    "x = XY[:, 0]\n",
    "y = XY[:, 1]\n",
    "\n",
    "plt.scatter(x, y)\n",
    "for i, txt in enumerate(range(3)):\n",
    "    plt.annotate(txt, (x[i], y[i]))\n",
    "    \n"
   ]
  },
  {
   "cell_type": "markdown",
   "id": "f55dff7c",
   "metadata": {},
   "source": [
    "### kNN"
   ]
  },
  {
   "cell_type": "code",
   "execution_count": 649,
   "id": "a566501a",
   "metadata": {},
   "outputs": [
    {
     "name": "stdout",
     "output_type": "stream",
     "text": [
      "test accuracy:  0.5993265993265994\n"
     ]
    }
   ],
   "source": [
    "from sklearn.neighbors import KNeighborsClassifier\n",
    "\n",
    "#t = data.loc[data['idiom'] == 1]\n",
    "\n",
    "y = np.array(t['answer_short'])\n",
    "X = np.array(t[['idiom', 'amb', 'sub', 'obj', 'time']])\n",
    "\n",
    "X_train, X_test, y_train, y_test = train_test_split(X, y, test_size=0.5, random_state=0)\n",
    "\n",
    "model = KNeighborsClassifier(n_neighbors=3)\n",
    "model.fit(X_train, y_train)\n",
    "preds_train = model.predict(X_train)\n",
    "preds_test = model.predict(X_test)\n",
    "\n",
    "print('test accuracy: ', accuracy_score(y_test, preds_test))"
   ]
  },
  {
   "cell_type": "markdown",
   "id": "4936b07b",
   "metadata": {},
   "source": [
    "## test items overview"
   ]
  },
  {
   "cell_type": "code",
   "execution_count": 541,
   "id": "a1751656",
   "metadata": {
    "scrolled": true
   },
   "outputs": [
    {
     "data": {
      "text/html": [
       "<div>\n",
       "<style scoped>\n",
       "    .dataframe tbody tr th:only-of-type {\n",
       "        vertical-align: middle;\n",
       "    }\n",
       "\n",
       "    .dataframe tbody tr th {\n",
       "        vertical-align: top;\n",
       "    }\n",
       "\n",
       "    .dataframe thead th {\n",
       "        text-align: right;\n",
       "    }\n",
       "</style>\n",
       "<table border=\"1\" class=\"dataframe\">\n",
       "  <thead>\n",
       "    <tr style=\"text-align: right;\">\n",
       "      <th></th>\n",
       "      <th>label</th>\n",
       "      <th>sentence</th>\n",
       "      <th>answer</th>\n",
       "      <th>time</th>\n",
       "    </tr>\n",
       "  </thead>\n",
       "  <tbody>\n",
       "    <tr>\n",
       "      <th>0</th>\n",
       "      <td>practice1</td>\n",
       "      <td>Ульяна сегодня надела своё любимое нежно-сирен...</td>\n",
       "      <td>7</td>\n",
       "      <td>3570</td>\n",
       "    </tr>\n",
       "    <tr>\n",
       "      <th>2</th>\n",
       "      <td>practice2</td>\n",
       "      <td>К нам надвигалось стая громкого угрожающе и кр...</td>\n",
       "      <td>1</td>\n",
       "      <td>3887</td>\n",
       "    </tr>\n",
       "    <tr>\n",
       "      <th>4</th>\n",
       "      <td>Fu-1F.01</td>\n",
       "      <td>Как только я вышел из дома%2C пошли сильный снег.</td>\n",
       "      <td>1</td>\n",
       "      <td>3889</td>\n",
       "    </tr>\n",
       "    <tr>\n",
       "      <th>6</th>\n",
       "      <td>id.sub.a</td>\n",
       "      <td>Егор продолжал биться над поделкой%2C но работ...</td>\n",
       "      <td>1</td>\n",
       "      <td>7122</td>\n",
       "    </tr>\n",
       "    <tr>\n",
       "      <th>8</th>\n",
       "      <td>Fg-8F.02</td>\n",
       "      <td>Пока что папа занят%2C но ты можешь зайти чере...</td>\n",
       "      <td>7</td>\n",
       "      <td>5373</td>\n",
       "    </tr>\n",
       "    <tr>\n",
       "      <th>...</th>\n",
       "      <td>...</td>\n",
       "      <td>...</td>\n",
       "      <td>...</td>\n",
       "      <td>...</td>\n",
       "    </tr>\n",
       "    <tr>\n",
       "      <th>3566</th>\n",
       "      <td>noid.sub.d</td>\n",
       "      <td>Все уже были готовы выезжать%2C когда позвонил...</td>\n",
       "      <td>7</td>\n",
       "      <td>4574</td>\n",
       "    </tr>\n",
       "    <tr>\n",
       "      <th>3568</th>\n",
       "      <td>Fu-3F.01</td>\n",
       "      <td>Поля любила ароматические свечей%2C но больше ...</td>\n",
       "      <td>1</td>\n",
       "      <td>6821</td>\n",
       "    </tr>\n",
       "    <tr>\n",
       "      <th>3570</th>\n",
       "      <td>Fg-8F.02</td>\n",
       "      <td>Пока что папа занят%2C но ты можешь зайти чере...</td>\n",
       "      <td>7</td>\n",
       "      <td>5440</td>\n",
       "    </tr>\n",
       "    <tr>\n",
       "      <th>3572</th>\n",
       "      <td>id.amb.a</td>\n",
       "      <td>Дружелюбный настрой Костиных новых знакомых и ...</td>\n",
       "      <td>7</td>\n",
       "      <td>6892</td>\n",
       "    </tr>\n",
       "    <tr>\n",
       "      <th>3574</th>\n",
       "      <td>noid.amb.d</td>\n",
       "      <td>Директор недавно приказал закрывать раздевалки...</td>\n",
       "      <td>7</td>\n",
       "      <td>5723</td>\n",
       "    </tr>\n",
       "  </tbody>\n",
       "</table>\n",
       "<p>1646 rows × 4 columns</p>\n",
       "</div>"
      ],
      "text/plain": [
       "           label                                           sentence  answer  \\\n",
       "0      practice1  Ульяна сегодня надела своё любимое нежно-сирен...       7   \n",
       "2      practice2  К нам надвигалось стая громкого угрожающе и кр...       1   \n",
       "4       Fu-1F.01  Как только я вышел из дома%2C пошли сильный снег.       1   \n",
       "6       id.sub.a  Егор продолжал биться над поделкой%2C но работ...       1   \n",
       "8       Fg-8F.02  Пока что папа занят%2C но ты можешь зайти чере...       7   \n",
       "...          ...                                                ...     ...   \n",
       "3566  noid.sub.d  Все уже были готовы выезжать%2C когда позвонил...       7   \n",
       "3568    Fu-3F.01  Поля любила ароматические свечей%2C но больше ...       1   \n",
       "3570    Fg-8F.02  Пока что папа занят%2C но ты можешь зайти чере...       7   \n",
       "3572    id.amb.a  Дружелюбный настрой Костиных новых знакомых и ...       7   \n",
       "3574  noid.amb.d  Директор недавно приказал закрывать раздевалки...       7   \n",
       "\n",
       "      time  \n",
       "0     3570  \n",
       "2     3887  \n",
       "4     3889  \n",
       "6     7122  \n",
       "8     5373  \n",
       "...    ...  \n",
       "3566  4574  \n",
       "3568  6821  \n",
       "3570  5440  \n",
       "3572  6892  \n",
       "3574  5723  \n",
       "\n",
       "[1646 rows x 4 columns]"
      ]
     },
     "execution_count": 541,
     "metadata": {},
     "output_type": "execute_result"
    }
   ],
   "source": [
    "import pandas as pd\n",
    "import numpy as np\n",
    "import csv\n",
    "\n",
    "from sklearn.model_selection import train_test_split\n",
    "from sklearn.metrics import accuracy_score\n",
    "\n",
    "content = []\n",
    "fieldnames = ['reception_time', 'ip', 'controller',\n",
    "             'order', 'n', 'label', 'lsg', 'sentence', 'answer',\n",
    "             'correct', 'time']\n",
    "\n",
    "with open('results.csv', 'r') as f:\n",
    "    rdr = csv.DictReader(filter(lambda row: row[0]!='#', f), fieldnames=fieldnames)\n",
    "    for line in rdr:\n",
    "        content.append(line)\n",
    "            \n",
    "df = pd.DataFrame.from_dict(content)\n",
    "for wrong in wrong_ips:\n",
    "    df.drop(df.loc[df['ip'] == wrong].index, inplace=True)\n",
    "data = df.groupby('ip').bfill()\n",
    "data.drop(data[data['sentence'] == 'NULL'].index, inplace=True)\n",
    "data.drop(data[data['controller'] != 'AcceptabilityJudgment'].index, inplace=True)\n",
    "data.drop(columns=['correct', 'order', 'n', 'lsg', 'reception_time', 'controller'], inplace=True)\n",
    "data['answer'] = data['answer'].astype(int)\n",
    "data"
   ]
  },
  {
   "cell_type": "code",
   "execution_count": 589,
   "id": "e4445f81",
   "metadata": {
    "scrolled": false
   },
   "outputs": [
    {
     "name": "stderr",
     "output_type": "stream",
     "text": [
      "<ipython-input-589-6fa137a9da8a>:2: SettingWithCopyWarning: \n",
      "A value is trying to be set on a copy of a slice from a DataFrame.\n",
      "Try using .loc[row_indexer,col_indexer] = value instead\n",
      "\n",
      "See the caveats in the documentation: https://pandas.pydata.org/pandas-docs/stable/user_guide/indexing.html#returning-a-view-versus-a-copy\n",
      "  exes['idiom'] = exes['label'].apply(lambda x: x.split('.')[0])\n",
      "<ipython-input-589-6fa137a9da8a>:3: SettingWithCopyWarning: \n",
      "A value is trying to be set on a copy of a slice from a DataFrame.\n",
      "Try using .loc[row_indexer,col_indexer] = value instead\n",
      "\n",
      "See the caveats in the documentation: https://pandas.pydata.org/pandas-docs/stable/user_guide/indexing.html#returning-a-view-versus-a-copy\n",
      "  exes['type'] = exes['label'].apply(lambda x: x.split('.')[1])\n",
      "<ipython-input-589-6fa137a9da8a>:4: SettingWithCopyWarning: \n",
      "A value is trying to be set on a copy of a slice from a DataFrame.\n",
      "Try using .loc[row_indexer,col_indexer] = value instead\n",
      "\n",
      "See the caveats in the documentation: https://pandas.pydata.org/pandas-docs/stable/user_guide/indexing.html#returning-a-view-versus-a-copy\n",
      "  exes['idiom'] = exes['idiom'].map({'id':1, 'noid':0})\n",
      "/Users/shikunova/opt/anaconda3/lib/python3.8/site-packages/pandas/core/frame.py:3191: SettingWithCopyWarning: \n",
      "A value is trying to be set on a copy of a slice from a DataFrame.\n",
      "Try using .loc[row_indexer,col_indexer] = value instead\n",
      "\n",
      "See the caveats in the documentation: https://pandas.pydata.org/pandas-docs/stable/user_guide/indexing.html#returning-a-view-versus-a-copy\n",
      "  self[k1] = value[k2]\n"
     ]
    },
    {
     "data": {
      "text/html": [
       "<div>\n",
       "<style scoped>\n",
       "    .dataframe tbody tr th:only-of-type {\n",
       "        vertical-align: middle;\n",
       "    }\n",
       "\n",
       "    .dataframe tbody tr th {\n",
       "        vertical-align: top;\n",
       "    }\n",
       "\n",
       "    .dataframe thead th {\n",
       "        text-align: right;\n",
       "    }\n",
       "</style>\n",
       "<table border=\"1\" class=\"dataframe\">\n",
       "  <thead>\n",
       "    <tr style=\"text-align: right;\">\n",
       "      <th></th>\n",
       "      <th>ip</th>\n",
       "      <th>label</th>\n",
       "      <th>answer</th>\n",
       "      <th>time</th>\n",
       "      <th>idiom</th>\n",
       "      <th>type</th>\n",
       "      <th>amb</th>\n",
       "      <th>obj</th>\n",
       "      <th>sub</th>\n",
       "    </tr>\n",
       "  </thead>\n",
       "  <tbody>\n",
       "    <tr>\n",
       "      <th>0</th>\n",
       "      <td>768f35facd7274bec5720cfc2b65d8b7</td>\n",
       "      <td>id.sub.a</td>\n",
       "      <td>-1.019287</td>\n",
       "      <td>-0.362637</td>\n",
       "      <td>1</td>\n",
       "      <td>sub</td>\n",
       "      <td>0</td>\n",
       "      <td>0</td>\n",
       "      <td>1</td>\n",
       "    </tr>\n",
       "    <tr>\n",
       "      <th>1</th>\n",
       "      <td>768f35facd7274bec5720cfc2b65d8b7</td>\n",
       "      <td>id.obj.a</td>\n",
       "      <td>0.738105</td>\n",
       "      <td>-0.330773</td>\n",
       "      <td>1</td>\n",
       "      <td>obj</td>\n",
       "      <td>0</td>\n",
       "      <td>1</td>\n",
       "      <td>0</td>\n",
       "    </tr>\n",
       "    <tr>\n",
       "      <th>2</th>\n",
       "      <td>768f35facd7274bec5720cfc2b65d8b7</td>\n",
       "      <td>id.amb.d</td>\n",
       "      <td>-1.019287</td>\n",
       "      <td>-0.551055</td>\n",
       "      <td>1</td>\n",
       "      <td>amb</td>\n",
       "      <td>1</td>\n",
       "      <td>0</td>\n",
       "      <td>0</td>\n",
       "    </tr>\n",
       "    <tr>\n",
       "      <th>3</th>\n",
       "      <td>768f35facd7274bec5720cfc2b65d8b7</td>\n",
       "      <td>id.obj.d</td>\n",
       "      <td>0.386626</td>\n",
       "      <td>-0.559427</td>\n",
       "      <td>1</td>\n",
       "      <td>obj</td>\n",
       "      <td>0</td>\n",
       "      <td>1</td>\n",
       "      <td>0</td>\n",
       "    </tr>\n",
       "    <tr>\n",
       "      <th>4</th>\n",
       "      <td>768f35facd7274bec5720cfc2b65d8b7</td>\n",
       "      <td>id.amb.a</td>\n",
       "      <td>-0.316331</td>\n",
       "      <td>-0.218843</td>\n",
       "      <td>1</td>\n",
       "      <td>amb</td>\n",
       "      <td>1</td>\n",
       "      <td>0</td>\n",
       "      <td>0</td>\n",
       "    </tr>\n",
       "    <tr>\n",
       "      <th>...</th>\n",
       "      <td>...</td>\n",
       "      <td>...</td>\n",
       "      <td>...</td>\n",
       "      <td>...</td>\n",
       "      <td>...</td>\n",
       "      <td>...</td>\n",
       "      <td>...</td>\n",
       "      <td>...</td>\n",
       "      <td>...</td>\n",
       "    </tr>\n",
       "    <tr>\n",
       "      <th>619</th>\n",
       "      <td>aa43a9471d001423711806402efdaaad</td>\n",
       "      <td>noid.obj.a</td>\n",
       "      <td>0.913514</td>\n",
       "      <td>-0.569891</td>\n",
       "      <td>0</td>\n",
       "      <td>obj</td>\n",
       "      <td>0</td>\n",
       "      <td>1</td>\n",
       "      <td>0</td>\n",
       "    </tr>\n",
       "    <tr>\n",
       "      <th>620</th>\n",
       "      <td>aa43a9471d001423711806402efdaaad</td>\n",
       "      <td>id.obj.a</td>\n",
       "      <td>0.913514</td>\n",
       "      <td>0.132205</td>\n",
       "      <td>1</td>\n",
       "      <td>obj</td>\n",
       "      <td>0</td>\n",
       "      <td>1</td>\n",
       "      <td>0</td>\n",
       "    </tr>\n",
       "    <tr>\n",
       "      <th>621</th>\n",
       "      <td>aa43a9471d001423711806402efdaaad</td>\n",
       "      <td>noid.sub.d</td>\n",
       "      <td>0.913514</td>\n",
       "      <td>-0.534651</td>\n",
       "      <td>0</td>\n",
       "      <td>sub</td>\n",
       "      <td>0</td>\n",
       "      <td>0</td>\n",
       "      <td>1</td>\n",
       "    </tr>\n",
       "    <tr>\n",
       "      <th>622</th>\n",
       "      <td>aa43a9471d001423711806402efdaaad</td>\n",
       "      <td>id.amb.a</td>\n",
       "      <td>0.913514</td>\n",
       "      <td>-0.378165</td>\n",
       "      <td>1</td>\n",
       "      <td>amb</td>\n",
       "      <td>1</td>\n",
       "      <td>0</td>\n",
       "      <td>0</td>\n",
       "    </tr>\n",
       "    <tr>\n",
       "      <th>623</th>\n",
       "      <td>aa43a9471d001423711806402efdaaad</td>\n",
       "      <td>noid.amb.d</td>\n",
       "      <td>0.913514</td>\n",
       "      <td>-0.457083</td>\n",
       "      <td>0</td>\n",
       "      <td>amb</td>\n",
       "      <td>1</td>\n",
       "      <td>0</td>\n",
       "      <td>0</td>\n",
       "    </tr>\n",
       "  </tbody>\n",
       "</table>\n",
       "<p>624 rows × 9 columns</p>\n",
       "</div>"
      ],
      "text/plain": [
       "                                   ip       label    answer      time  idiom  \\\n",
       "0    768f35facd7274bec5720cfc2b65d8b7    id.sub.a -1.019287 -0.362637      1   \n",
       "1    768f35facd7274bec5720cfc2b65d8b7    id.obj.a  0.738105 -0.330773      1   \n",
       "2    768f35facd7274bec5720cfc2b65d8b7    id.amb.d -1.019287 -0.551055      1   \n",
       "3    768f35facd7274bec5720cfc2b65d8b7    id.obj.d  0.386626 -0.559427      1   \n",
       "4    768f35facd7274bec5720cfc2b65d8b7    id.amb.a -0.316331 -0.218843      1   \n",
       "..                                ...         ...       ...       ...    ...   \n",
       "619  aa43a9471d001423711806402efdaaad  noid.obj.a  0.913514 -0.569891      0   \n",
       "620  aa43a9471d001423711806402efdaaad    id.obj.a  0.913514  0.132205      1   \n",
       "621  aa43a9471d001423711806402efdaaad  noid.sub.d  0.913514 -0.534651      0   \n",
       "622  aa43a9471d001423711806402efdaaad    id.amb.a  0.913514 -0.378165      1   \n",
       "623  aa43a9471d001423711806402efdaaad  noid.amb.d  0.913514 -0.457083      0   \n",
       "\n",
       "    type  amb  obj  sub  \n",
       "0    sub    0    0    1  \n",
       "1    obj    0    1    0  \n",
       "2    amb    1    0    0  \n",
       "3    obj    0    1    0  \n",
       "4    amb    1    0    0  \n",
       "..   ...  ...  ...  ...  \n",
       "619  obj    0    1    0  \n",
       "620  obj    0    1    0  \n",
       "621  sub    0    0    1  \n",
       "622  amb    1    0    0  \n",
       "623  amb    1    0    0  \n",
       "\n",
       "[624 rows x 9 columns]"
      ]
     },
     "execution_count": 589,
     "metadata": {},
     "output_type": "execute_result"
    }
   ],
   "source": [
    "exes = data[(data['label'].str.startswith('id')) | (data['label'].str.startswith('no'))]\n",
    "exes['idiom'] = exes['label'].apply(lambda x: x.split('.')[0])\n",
    "exes['type'] = exes['label'].apply(lambda x: x.split('.')[1])\n",
    "exes['idiom'] = exes['idiom'].map({'id':1, 'noid':0})\n",
    "exes[['amb', 'obj', 'sub']] = pd.get_dummies(exes['type'])\n",
    "exes.reset_index(drop=True, inplace=True)\n",
    "#exes.drop(columns=['label'], inplace=True)\n",
    "exes"
   ]
  },
  {
   "cell_type": "markdown",
   "id": "b7f419fd",
   "metadata": {},
   "source": [
    "### non z scored stats"
   ]
  },
  {
   "cell_type": "markdown",
   "id": "3c0c29b5",
   "metadata": {},
   "source": [
    "#### test items"
   ]
  },
  {
   "cell_type": "code",
   "execution_count": 576,
   "id": "9336fea3",
   "metadata": {
    "scrolled": true
   },
   "outputs": [
    {
     "data": {
      "image/png": "[encoded data removed]",
      "text/plain": [
       "<Figure size 640x480 with 1 Axes>"
      ]
     },
     "metadata": {},
     "output_type": "display_data"
    }
   ],
   "source": [
    "from matplotlib.pyplot import figure\n",
    "\n",
    "figure(figsize=(8, 6), dpi=80)\n",
    "\n",
    "d = dict(exes[exes['idiom'] == 1].groupby('label')['answer'].mean())\n",
    "d = dict(sorted(d.items(), key=lambda x: x[1]))\n",
    "x = d.keys()\n",
    "y = d.values()\n",
    "\n",
    "words = ['amb', 'sub', 'obj']\n",
    "colors = ['pink', 'purple', 'grey']\n",
    "for key, val in d.items():\n",
    "    plt.bar(key, val, color=colors[words.index(key.split('.')[1])])\n",
    "plt.axhline(y=np.mean(list(y)), color='black')\n",
    "plt.xticks(rotation=90)\n",
    "plt.savefig('general.png')"
   ]
  },
  {
   "cell_type": "code",
   "execution_count": 590,
   "id": "b2351a29",
   "metadata": {},
   "outputs": [
    {
     "data": {
      "image/png": "[encoded data removed]",
      "text/plain": [
       "<Figure size 640x480 with 1 Axes>"
      ]
     },
     "metadata": {},
     "output_type": "display_data"
    }
   ],
   "source": [
    "from matplotlib.pyplot import figure\n",
    "\n",
    "figure(figsize=(8, 6), dpi=80)\n",
    "\n",
    "d = dict(exes[exes['idiom'] == 0].groupby('label')['answer'].mean())\n",
    "d = dict(sorted(d.items(), key=lambda x: x[1]))\n",
    "x = d.keys()\n",
    "y = d.values()\n",
    "\n",
    "words = ['amb', 'sub', 'obj']\n",
    "colors = ['pink', 'purple', 'grey']\n",
    "for key, val in d.items():\n",
    "    plt.bar(key, val, color=colors[words.index(key.split('.')[1])])\n",
    "plt.axhline(y=np.mean(list(y)), color='black')\n",
    "plt.xticks(rotation=90)\n",
    "plt.savefig('general_noid.png')"
   ]
  },
  {
   "cell_type": "code",
   "execution_count": 544,
   "id": "67ca1963",
   "metadata": {},
   "outputs": [
    {
     "data": {
      "text/plain": [
       "<seaborn.axisgrid.FacetGrid at 0x7f91e6729d60>"
      ]
     },
     "execution_count": 544,
     "metadata": {},
     "output_type": "execute_result"
    },
    {
     "data": {
      "image/png": "[encoded data removed]",
      "text/plain": [
       "<Figure size 432x216 with 2 Axes>"
      ]
     },
     "metadata": {
      "needs_background": "light"
     },
     "output_type": "display_data"
    }
   ],
   "source": [
    "import seaborn as sns\n",
    "\n",
    "#sns.displot(data=exes[exes['idiom'] == 0], x='answer', kde=True)\n",
    "#sns.displot(data=exes[exes['idiom'] == 1], x='answer', kde=True)\n",
    "\n",
    "g = sns.FacetGrid(exes, col=\"idiom\")\n",
    "g.map(sns.histplot, \"answer\")"
   ]
  },
  {
   "cell_type": "code",
   "execution_count": 545,
   "id": "b5493d5c",
   "metadata": {},
   "outputs": [
    {
     "data": {
      "text/plain": [
       "<seaborn.axisgrid.FacetGrid at 0x7f91e72b6b80>"
      ]
     },
     "execution_count": 545,
     "metadata": {},
     "output_type": "execute_result"
    },
    {
     "data": {
      "image/png": "[encoded data removed]",
      "text/plain": [
       "<Figure size 648x216 with 3 Axes>"
      ]
     },
     "metadata": {
      "needs_background": "light"
     },
     "output_type": "display_data"
    }
   ],
   "source": [
    "g = sns.FacetGrid(exes, col=\"type\")\n",
    "g.map(sns.histplot, \"answer\")"
   ]
  },
  {
   "cell_type": "code",
   "execution_count": 547,
   "id": "f9784aad",
   "metadata": {},
   "outputs": [
    {
     "name": "stderr",
     "output_type": "stream",
     "text": [
      "/Users/shikunova/opt/anaconda3/lib/python3.8/site-packages/seaborn/axisgrid.py:643: UserWarning: Using the barplot function without specifying `order` is likely to produce an incorrect plot.\n",
      "  warnings.warn(warning)\n"
     ]
    },
    {
     "data": {
      "text/plain": [
       "<seaborn.axisgrid.FacetGrid at 0x7f91e81a4370>"
      ]
     },
     "execution_count": 547,
     "metadata": {},
     "output_type": "execute_result"
    },
    {
     "data": {
      "image/png": "[encoded data removed]",
      "text/plain": [
       "<Figure size 648x216 with 3 Axes>"
      ]
     },
     "metadata": {
      "needs_background": "light"
     },
     "output_type": "display_data"
    }
   ],
   "source": [
    "g = sns.FacetGrid(exes, col=\"type\")\n",
    "g.map(sns.barplot, \"idiom\", \"answer\", alpha=.7)"
   ]
  },
  {
   "cell_type": "code",
   "execution_count": 548,
   "id": "3176b18c",
   "metadata": {},
   "outputs": [
    {
     "name": "stderr",
     "output_type": "stream",
     "text": [
      "<ipython-input-548-360f5ae17c2d>:1: SettingWithCopyWarning: \n",
      "A value is trying to be set on a copy of a slice from a DataFrame.\n",
      "Try using .loc[row_indexer,col_indexer] = value instead\n",
      "\n",
      "See the caveats in the documentation: https://pandas.pydata.org/pandas-docs/stable/user_guide/indexing.html#returning-a-view-versus-a-copy\n",
      "  exes['answer'] = exes['answer'].transform(lambda x: (x - x.mean()) / x.std())\n"
     ]
    }
   ],
   "source": [
    "exes['answer'] = exes['answer'].transform(lambda x: (x - x.mean()) / x.std())"
   ]
  },
  {
   "cell_type": "code",
   "execution_count": 549,
   "id": "6e90d62b",
   "metadata": {},
   "outputs": [
    {
     "data": {
      "text/plain": [
       "<seaborn.axisgrid.FacetGrid at 0x7f91e72acf70>"
      ]
     },
     "execution_count": 549,
     "metadata": {},
     "output_type": "execute_result"
    },
    {
     "data": {
      "image/png": "[encoded data removed]",
      "text/plain": [
       "<Figure size 432x216 with 2 Axes>"
      ]
     },
     "metadata": {
      "needs_background": "light"
     },
     "output_type": "display_data"
    }
   ],
   "source": [
    "g = sns.FacetGrid(exes, col=\"idiom\")\n",
    "g.map(sns.histplot, \"answer\", color='green')"
   ]
  },
  {
   "cell_type": "code",
   "execution_count": 550,
   "id": "709cc1a4",
   "metadata": {},
   "outputs": [
    {
     "data": {
      "text/plain": [
       "<seaborn.axisgrid.FacetGrid at 0x7f91e845d640>"
      ]
     },
     "execution_count": 550,
     "metadata": {},
     "output_type": "execute_result"
    },
    {
     "data": {
      "image/png": "[encoded data removed]",
      "text/plain": [
       "<Figure size 648x216 with 3 Axes>"
      ]
     },
     "metadata": {
      "needs_background": "light"
     },
     "output_type": "display_data"
    }
   ],
   "source": [
    "g = sns.FacetGrid(exes, col=\"type\")\n",
    "g.map(sns.histplot, \"answer\", color='green')"
   ]
  },
  {
   "cell_type": "code",
   "execution_count": 570,
   "id": "532d6b52",
   "metadata": {},
   "outputs": [
    {
     "name": "stderr",
     "output_type": "stream",
     "text": [
      "/Users/shikunova/opt/anaconda3/lib/python3.8/site-packages/seaborn/axisgrid.py:643: UserWarning: Using the boxplot function without specifying `order` is likely to produce an incorrect plot.\n",
      "  warnings.warn(warning)\n"
     ]
    },
    {
     "data": {
      "image/png": "[encoded data removed]",
      "text/plain": [
       "<Figure size 648x216 with 3 Axes>"
      ]
     },
     "metadata": {},
     "output_type": "display_data"
    }
   ],
   "source": [
    "sns.set(rc={'figure.figsize':(15,5)})\n",
    "g = sns.FacetGrid(exes, col=\"type\")\n",
    "g.map(sns.boxplot, \"idiom\", \"answer\", color='green')\n",
    "g.savefig('type_dist.png')"
   ]
  },
  {
   "cell_type": "markdown",
   "id": "48ce72b7",
   "metadata": {},
   "source": [
    "#### fillers"
   ]
  },
  {
   "cell_type": "code",
   "execution_count": 552,
   "id": "f0b3bae6",
   "metadata": {},
   "outputs": [
    {
     "data": {
      "text/plain": [
       "<seaborn.axisgrid.FacetGrid at 0x7f91e86e2370>"
      ]
     },
     "execution_count": 552,
     "metadata": {},
     "output_type": "execute_result"
    },
    {
     "data": {
      "image/png": "[encoded data removed]",
      "text/plain": [
       "<Figure size 432x216 with 2 Axes>"
      ]
     },
     "metadata": {
      "needs_background": "light"
     },
     "output_type": "display_data"
    }
   ],
   "source": [
    "g = sns.FacetGrid(fillers, col=\"grammatical\")\n",
    "g.map(sns.histplot, \"answer\", alpha=.7)"
   ]
  },
  {
   "cell_type": "code",
   "execution_count": 566,
   "id": "1644c601",
   "metadata": {},
   "outputs": [
    {
     "data": {
      "image/png": "[encoded data removed]",
      "text/plain": [
       "<Figure size 792x576 with 1 Axes>"
      ]
     },
     "metadata": {},
     "output_type": "display_data"
    }
   ],
   "source": [
    "content = []\n",
    "fieldnames = ['reception_time', 'ip', 'controller',\n",
    "             'order', 'n', 'label', 'lsg', 'sentence', 'answer',\n",
    "             'correct', 'time']\n",
    "\n",
    "with open('results.csv', 'r') as f:\n",
    "    rdr = csv.DictReader(filter(lambda row: row[0]!='#', f), fieldnames=fieldnames)\n",
    "    for line in rdr:\n",
    "        content.append(line)\n",
    "            \n",
    "df = pd.DataFrame.from_dict(content)\n",
    "for wrong in wrong_ips:\n",
    "    df.drop(df.loc[df['ip'] == wrong].index, inplace=True)\n",
    "data = df.groupby('sentence').bfill()\n",
    "data.drop(data[data['correct'] != 'NULL'].index, inplace=True)\n",
    "data.drop(data[data['controller'] != 'AcceptabilityJudgment'].index, inplace=True)\n",
    "data.drop(columns=['correct', 'order', 'n', 'lsg', 'reception_time', 'controller'], inplace=True)\n",
    "data['answer'] = data['answer'].astype(int)\n",
    "data['answer'] = data.groupby('ip')['answer'].transform(lambda x: (x - x.mean()) / x.std())\n",
    "ti = data.loc[data['label'].str.startswith('id')]\n",
    "ti = ti[['answer', 'time']]\n",
    "ti['grammatical'] = 2\n",
    "tnf = pd.concat([fillers, ti], ignore_index=True)\n",
    "tnf['grammatical'] = tnf['grammatical'].map({0:'ungram fillers', 1:'gramm fillers', 2:'test items'})\n",
    "\n",
    "sns.set(rc={'figure.figsize':(11,8)})\n",
    "fig = sns.histplot(data=tnf, x=\"answer\", hue=\"grammatical\", element=\"poly\").get_figure()\n",
    "#fig.set_axis_labels('answer', 'respondent count')\n",
    "fig.savefig('gramm_ungramm.png')"
   ]
  },
  {
   "cell_type": "code",
   "execution_count": 585,
   "id": "e1493c0e",
   "metadata": {
    "scrolled": true
   },
   "outputs": [
    {
     "data": {
      "image/png": "[encoded data removed]",
      "text/plain": [
       "<Figure size 792x576 with 1 Axes>"
      ]
     },
     "metadata": {},
     "output_type": "display_data"
    }
   ],
   "source": [
    "ti = data.loc[data['label'].str.startswith('noid')]\n",
    "ti = ti[['answer', 'time']]\n",
    "ti['grammatical'] = 2\n",
    "tnf = pd.concat([fillers, ti], ignore_index=True)\n",
    "tnf['grammatical'] = tnf['grammatical'].map({0:'ungram fillers', 1:'gramm fillers', 2:'test items'})\n",
    "\n",
    "sns.set(rc={'figure.figsize':(11,8)})\n",
    "fig = sns.histplot(data=tnf, x=\"answer\", hue=\"grammatical\", element=\"poly\").get_figure()\n",
    "#fig.set_axis_labels('answer', 'respondent count')\n",
    "fig.savefig('gramm_ungramm_noid.png')"
   ]
  },
  {
   "cell_type": "markdown",
   "id": "b5f78abd",
   "metadata": {},
   "source": [
    "## remove the outliers"
   ]
  },
  {
   "cell_type": "code",
   "execution_count": 556,
   "id": "2ed74b92",
   "metadata": {},
   "outputs": [
    {
     "name": "stderr",
     "output_type": "stream",
     "text": [
      "<ipython-input-556-7075082c838f>:9: SettingWithCopyWarning: \n",
      "A value is trying to be set on a copy of a slice from a DataFrame.\n",
      "Try using .loc[row_indexer,col_indexer] = value instead\n",
      "\n",
      "See the caveats in the documentation: https://pandas.pydata.org/pandas-docs/stable/user_guide/indexing.html#returning-a-view-versus-a-copy\n",
      "  fillers['grammatical'] = fillers['label'].str[1]\n",
      "<ipython-input-556-7075082c838f>:10: SettingWithCopyWarning: \n",
      "A value is trying to be set on a copy of a slice from a DataFrame.\n",
      "Try using .loc[row_indexer,col_indexer] = value instead\n",
      "\n",
      "See the caveats in the documentation: https://pandas.pydata.org/pandas-docs/stable/user_guide/indexing.html#returning-a-view-versus-a-copy\n",
      "  fillers['grammatical'] = fillers['grammatical'].map({'u':0, 'g':1})\n",
      "/Users/shikunova/opt/anaconda3/lib/python3.8/site-packages/pandas/core/frame.py:4308: SettingWithCopyWarning: \n",
      "A value is trying to be set on a copy of a slice from a DataFrame\n",
      "\n",
      "See the caveats in the documentation: https://pandas.pydata.org/pandas-docs/stable/user_guide/indexing.html#returning-a-view-versus-a-copy\n",
      "  return super().drop(\n"
     ]
    },
    {
     "data": {
      "text/html": [
       "<div>\n",
       "<style scoped>\n",
       "    .dataframe tbody tr th:only-of-type {\n",
       "        vertical-align: middle;\n",
       "    }\n",
       "\n",
       "    .dataframe tbody tr th {\n",
       "        vertical-align: top;\n",
       "    }\n",
       "\n",
       "    .dataframe thead th {\n",
       "        text-align: right;\n",
       "    }\n",
       "</style>\n",
       "<table border=\"1\" class=\"dataframe\">\n",
       "  <thead>\n",
       "    <tr style=\"text-align: right;\">\n",
       "      <th></th>\n",
       "      <th>ip</th>\n",
       "      <th>answer</th>\n",
       "      <th>time</th>\n",
       "      <th>grammatical</th>\n",
       "    </tr>\n",
       "  </thead>\n",
       "  <tbody>\n",
       "    <tr>\n",
       "      <th>5</th>\n",
       "      <td>768f35facd7274bec5720cfc2b65d8b7</td>\n",
       "      <td>1</td>\n",
       "      <td>3889</td>\n",
       "      <td>0</td>\n",
       "    </tr>\n",
       "    <tr>\n",
       "      <th>9</th>\n",
       "      <td>768f35facd7274bec5720cfc2b65d8b7</td>\n",
       "      <td>7</td>\n",
       "      <td>5373</td>\n",
       "      <td>1</td>\n",
       "    </tr>\n",
       "    <tr>\n",
       "      <th>11</th>\n",
       "      <td>768f35facd7274bec5720cfc2b65d8b7</td>\n",
       "      <td>1</td>\n",
       "      <td>4684</td>\n",
       "      <td>0</td>\n",
       "    </tr>\n",
       "    <tr>\n",
       "      <th>15</th>\n",
       "      <td>768f35facd7274bec5720cfc2b65d8b7</td>\n",
       "      <td>7</td>\n",
       "      <td>7438</td>\n",
       "      <td>1</td>\n",
       "    </tr>\n",
       "    <tr>\n",
       "      <th>17</th>\n",
       "      <td>768f35facd7274bec5720cfc2b65d8b7</td>\n",
       "      <td>1</td>\n",
       "      <td>4607</td>\n",
       "      <td>0</td>\n",
       "    </tr>\n",
       "    <tr>\n",
       "      <th>...</th>\n",
       "      <td>...</td>\n",
       "      <td>...</td>\n",
       "      <td>...</td>\n",
       "      <td>...</td>\n",
       "    </tr>\n",
       "    <tr>\n",
       "      <th>3555</th>\n",
       "      <td>aa43a9471d001423711806402efdaaad</td>\n",
       "      <td>6</td>\n",
       "      <td>7265</td>\n",
       "      <td>1</td>\n",
       "    </tr>\n",
       "    <tr>\n",
       "      <th>3561</th>\n",
       "      <td>aa43a9471d001423711806402efdaaad</td>\n",
       "      <td>1</td>\n",
       "      <td>7231</td>\n",
       "      <td>0</td>\n",
       "    </tr>\n",
       "    <tr>\n",
       "      <th>3563</th>\n",
       "      <td>aa43a9471d001423711806402efdaaad</td>\n",
       "      <td>7</td>\n",
       "      <td>10343</td>\n",
       "      <td>1</td>\n",
       "    </tr>\n",
       "    <tr>\n",
       "      <th>3569</th>\n",
       "      <td>aa43a9471d001423711806402efdaaad</td>\n",
       "      <td>1</td>\n",
       "      <td>6821</td>\n",
       "      <td>0</td>\n",
       "    </tr>\n",
       "    <tr>\n",
       "      <th>3571</th>\n",
       "      <td>aa43a9471d001423711806402efdaaad</td>\n",
       "      <td>7</td>\n",
       "      <td>5440</td>\n",
       "      <td>1</td>\n",
       "    </tr>\n",
       "  </tbody>\n",
       "</table>\n",
       "<p>924 rows × 4 columns</p>\n",
       "</div>"
      ],
      "text/plain": [
       "                                    ip  answer   time  grammatical\n",
       "5     768f35facd7274bec5720cfc2b65d8b7       1   3889            0\n",
       "9     768f35facd7274bec5720cfc2b65d8b7       7   5373            1\n",
       "11    768f35facd7274bec5720cfc2b65d8b7       1   4684            0\n",
       "15    768f35facd7274bec5720cfc2b65d8b7       7   7438            1\n",
       "17    768f35facd7274bec5720cfc2b65d8b7       1   4607            0\n",
       "...                                ...     ...    ...          ...\n",
       "3555  aa43a9471d001423711806402efdaaad       6   7265            1\n",
       "3561  aa43a9471d001423711806402efdaaad       1   7231            0\n",
       "3563  aa43a9471d001423711806402efdaaad       7  10343            1\n",
       "3569  aa43a9471d001423711806402efdaaad       1   6821            0\n",
       "3571  aa43a9471d001423711806402efdaaad       7   5440            1\n",
       "\n",
       "[924 rows x 4 columns]"
      ]
     },
     "execution_count": 556,
     "metadata": {},
     "output_type": "execute_result"
    }
   ],
   "source": [
    "df = pd.DataFrame.from_dict(content)\n",
    "data = df.groupby('sentence').bfill()\n",
    "data.drop(data[data['correct'] != 'NULL'].index, inplace=True)\n",
    "data.drop(data[data['controller'] != 'AcceptabilityJudgment'].index, inplace=True)\n",
    "data.drop(columns=['correct', 'order', 'n', 'lsg', 'reception_time', 'controller'], inplace=True)\n",
    "data['answer'] = data['answer'].astype(int)\n",
    "\n",
    "fillers = data[data['label'].str.startswith('F')]\n",
    "fillers['grammatical'] = fillers['label'].str[1]\n",
    "fillers['grammatical'] = fillers['grammatical'].map({'u':0, 'g':1})\n",
    "fillers.drop(columns=['label'], inplace=True)\n",
    "fillers"
   ]
  },
  {
   "cell_type": "code",
   "execution_count": 555,
   "id": "de1ff5a3",
   "metadata": {},
   "outputs": [
    {
     "data": {
      "text/html": [
       "<div>\n",
       "<style scoped>\n",
       "    .dataframe tbody tr th:only-of-type {\n",
       "        vertical-align: middle;\n",
       "    }\n",
       "\n",
       "    .dataframe tbody tr th {\n",
       "        vertical-align: top;\n",
       "    }\n",
       "\n",
       "    .dataframe thead th {\n",
       "        text-align: right;\n",
       "    }\n",
       "</style>\n",
       "<table border=\"1\" class=\"dataframe\">\n",
       "  <thead>\n",
       "    <tr style=\"text-align: right;\">\n",
       "      <th></th>\n",
       "      <th>ip</th>\n",
       "      <th>0</th>\n",
       "      <th>1</th>\n",
       "    </tr>\n",
       "  </thead>\n",
       "  <tbody>\n",
       "    <tr>\n",
       "      <th>0</th>\n",
       "      <td>008edcdb4103bbff8f81f1c817db89a5</td>\n",
       "      <td>2.000000</td>\n",
       "      <td>5.166667</td>\n",
       "    </tr>\n",
       "    <tr>\n",
       "      <th>1</th>\n",
       "      <td>0273cc424205f73f470fe3d26348b9c2</td>\n",
       "      <td>1.500000</td>\n",
       "      <td>5.833333</td>\n",
       "    </tr>\n",
       "    <tr>\n",
       "      <th>2</th>\n",
       "      <td>05f475a6456c929e7b81d1621aaed515</td>\n",
       "      <td>1.166667</td>\n",
       "      <td>7.000000</td>\n",
       "    </tr>\n",
       "    <tr>\n",
       "      <th>3</th>\n",
       "      <td>07cdd46f6d733b4120a28f03c7f2e1bc</td>\n",
       "      <td>1.666667</td>\n",
       "      <td>5.833333</td>\n",
       "    </tr>\n",
       "    <tr>\n",
       "      <th>4</th>\n",
       "      <td>0b40d0a708b92589cabbfdc615411f4d</td>\n",
       "      <td>3.000000</td>\n",
       "      <td>5.666667</td>\n",
       "    </tr>\n",
       "    <tr>\n",
       "      <th>...</th>\n",
       "      <td>...</td>\n",
       "      <td>...</td>\n",
       "      <td>...</td>\n",
       "    </tr>\n",
       "    <tr>\n",
       "      <th>68</th>\n",
       "      <td>f34415c6b97c2d997e354fb79ffa14bc</td>\n",
       "      <td>1.833333</td>\n",
       "      <td>6.833333</td>\n",
       "    </tr>\n",
       "    <tr>\n",
       "      <th>69</th>\n",
       "      <td>f88d81331731fa70e26f7f9c475f45cc</td>\n",
       "      <td>1.000000</td>\n",
       "      <td>5.500000</td>\n",
       "    </tr>\n",
       "    <tr>\n",
       "      <th>70</th>\n",
       "      <td>f8cd7db158063af9356b4de6ae4350ae</td>\n",
       "      <td>3.000000</td>\n",
       "      <td>4.166667</td>\n",
       "    </tr>\n",
       "    <tr>\n",
       "      <th>71</th>\n",
       "      <td>fd90bc35ebc64c5bf9f10f9d1261f0ba</td>\n",
       "      <td>1.166667</td>\n",
       "      <td>6.000000</td>\n",
       "    </tr>\n",
       "    <tr>\n",
       "      <th>72</th>\n",
       "      <td>ff3d01e955abd50b3d0d1db51159f265</td>\n",
       "      <td>1.833333</td>\n",
       "      <td>6.666667</td>\n",
       "    </tr>\n",
       "  </tbody>\n",
       "</table>\n",
       "<p>73 rows × 3 columns</p>\n",
       "</div>"
      ],
      "text/plain": [
       "                                  ip         0         1\n",
       "0   008edcdb4103bbff8f81f1c817db89a5  2.000000  5.166667\n",
       "1   0273cc424205f73f470fe3d26348b9c2  1.500000  5.833333\n",
       "2   05f475a6456c929e7b81d1621aaed515  1.166667  7.000000\n",
       "3   07cdd46f6d733b4120a28f03c7f2e1bc  1.666667  5.833333\n",
       "4   0b40d0a708b92589cabbfdc615411f4d  3.000000  5.666667\n",
       "..                               ...       ...       ...\n",
       "68  f34415c6b97c2d997e354fb79ffa14bc  1.833333  6.833333\n",
       "69  f88d81331731fa70e26f7f9c475f45cc  1.000000  5.500000\n",
       "70  f8cd7db158063af9356b4de6ae4350ae  3.000000  4.166667\n",
       "71  fd90bc35ebc64c5bf9f10f9d1261f0ba  1.166667  6.000000\n",
       "72  ff3d01e955abd50b3d0d1db51159f265  1.833333  6.666667\n",
       "\n",
       "[73 rows x 3 columns]"
      ]
     },
     "execution_count": 555,
     "metadata": {},
     "output_type": "execute_result"
    }
   ],
   "source": [
    "ips = pd.pivot_table(fillers, values='answer', index='ip', columns='grammatical', aggfunc=np.average)\n",
    "ips = ips.reset_index().rename_axis(None, axis=1)\n",
    "ips"
   ]
  },
  {
   "cell_type": "code",
   "execution_count": 521,
   "id": "a9dbbc88",
   "metadata": {},
   "outputs": [
    {
     "data": {
      "text/plain": [
       "['182132ac5a39cb9901f7d219aee9725d',\n",
       " '360d4f219052372d21805b75b756c4fa',\n",
       " '94745e41b11a01b5629c2e12eafb12e7',\n",
       " 'b38d667475915e4099823b83896cf4ae']"
      ]
     },
     "execution_count": 521,
     "metadata": {},
     "output_type": "execute_result"
    }
   ],
   "source": [
    "bad = []\n",
    "\n",
    "for row in ips.loc[(ips[1] <= 4) | (ips[0] >= 4)].iterrows():\n",
    "    bad.append(row[0])\n",
    "    \n",
    "bad = list(bad)\n",
    "list(ips.loc[bad]['ip'])"
   ]
  },
  {
   "cell_type": "code",
   "execution_count": null,
   "id": "a523bd5b",
   "metadata": {},
   "outputs": [],
   "source": [
    "sns.set(rc={'figure.figsize':(11,8)})\n",
    "fig.set_axis_labels('', '')\n",
    "fig.savefig('')"
   ]
  }
 ],
 "metadata": {
  "kernelspec": {
   "display_name": "Python 3",
   "language": "python",
   "name": "python3"
  },
  "language_info": {
   "codemirror_mode": {
    "name": "ipython",
    "version": 3
   },
   "file_extension": ".py",
   "mimetype": "text/x-python",
   "name": "python",
   "nbconvert_exporter": "python",
   "pygments_lexer": "ipython3",
   "version": "3.8.8"
  }
 },
 "nbformat": 4,
 "nbformat_minor": 5
}
